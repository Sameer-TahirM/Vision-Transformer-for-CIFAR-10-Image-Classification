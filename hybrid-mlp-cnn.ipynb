{
 "cells": [
  {
   "cell_type": "code",
   "execution_count": 1,
   "id": "2d9c5ce3",
   "metadata": {
    "execution": {
     "iopub.execute_input": "2024-11-11T12:25:55.897911Z",
     "iopub.status.busy": "2024-11-11T12:25:55.897077Z",
     "iopub.status.idle": "2024-11-11T12:26:01.996034Z",
     "shell.execute_reply": "2024-11-11T12:26:01.995186Z"
    },
    "papermill": {
     "duration": 6.106384,
     "end_time": "2024-11-11T12:26:01.998424",
     "exception": false,
     "start_time": "2024-11-11T12:25:55.892040",
     "status": "completed"
    },
    "tags": []
   },
   "outputs": [],
   "source": [
    "import pickle\n",
    "\n",
    "import numpy as np\n",
    "\n",
    "import torch\n",
    "\n",
    "from torch.utils.data import Dataset, DataLoader\n",
    "\n",
    "from torchvision import transforms\n",
    "\n",
    "from tqdm import tqdm\n",
    "\n",
    "\n",
    "\n",
    "class CIFAR10InMemoryDataset(Dataset):\n",
    "\n",
    "    def __init__(self, data, labels, transform=None):\n",
    "\n",
    "        self.data = data\n",
    "\n",
    "        self.labels = labels\n",
    "\n",
    "        self.transform = transform\n",
    "\n",
    "    \n",
    "\n",
    "    def __len__(self):\n",
    "\n",
    "        return len(self.data)\n",
    "\n",
    "    \n",
    "\n",
    "    def __getitem__(self, idx):\n",
    "\n",
    "        image = self.data[idx]\n",
    "\n",
    "        label = self.labels[idx]\n",
    "\n",
    "        if self.transform:\n",
    "\n",
    "            image = self.transform(image)\n",
    "\n",
    "        return image, label\n",
    "\n",
    "\n",
    "\n",
    "# Preload data into memory\n",
    "\n",
    "def load_cifar10_in_memory(data_dir):\n",
    "\n",
    "    images, labels = [], []\n",
    "\n",
    "    for i in range(1, 6):\n",
    "\n",
    "        with open(f\"{data_dir}/data_batch_{i}\", 'rb') as f:\n",
    "\n",
    "            batch = pickle.load(f, encoding='bytes')\n",
    "\n",
    "            images.append(batch[b'data'])\n",
    "\n",
    "            labels.extend(batch[b'labels'])\n",
    "\n",
    "    images = np.vstack(images).reshape(-1, 3, 32, 32).transpose(0, 2, 3, 1)  # Reshape and reorder dimensions\n",
    "\n",
    "    labels = np.array(labels)\n",
    "\n",
    "\n",
    "\n",
    "    # Load test data\n",
    "\n",
    "    with open(f\"{data_dir}/test_batch\", 'rb') as f:\n",
    "\n",
    "        batch = pickle.load(f, encoding='bytes')\n",
    "\n",
    "        test_images = batch[b'data'].reshape(-1, 3, 32, 32).transpose(0, 2, 3, 1)\n",
    "\n",
    "        test_labels = np.array(batch[b'labels'])\n",
    "\n",
    "        \n",
    "\n",
    "    return images, labels, test_images, test_labels\n",
    "\n",
    "\n",
    "\n",
    "# Load CIFAR-10 data into memory\n",
    "\n",
    "data_dir = \"/kaggle/input/cifar-dataset/cifar-10-batches-py\"\n",
    "\n",
    "train_images, train_labels, test_images, test_labels = load_cifar10_in_memory(data_dir)\n",
    "\n",
    "\n",
    "\n",
    "# Define simple transforms\n",
    "\n",
    "train_transforms = transforms.Compose([\n",
    "\n",
    "    transforms.ToTensor(),\n",
    "\n",
    "    transforms.RandomCrop(32, padding=4),\n",
    "\n",
    "    transforms.ColorJitter(brightness=0.2, contrast=0.2, saturation=0.2, hue=0.1),\n",
    "\n",
    "    transforms.RandomHorizontalFlip(),\n",
    "\n",
    "    transforms.Normalize((0.4914, 0.4822, 0.4465), (0.2023, 0.1994, 0.2010))\n",
    "\n",
    "])\n",
    "\n",
    "\n",
    "\n",
    "# from torchvision import transforms\n",
    "\n",
    "\n",
    "\n",
    "# train_transforms = transforms.Compose([\n",
    "\n",
    "#     transforms.RandomCrop(32, padding=4),\n",
    "\n",
    "#     transforms.RandomHorizontalFlip(),\n",
    "\n",
    "#     transforms.ColorJitter(brightness=0.2, contrast=0.2, saturation=0.2, hue=0.1),\n",
    "\n",
    "#     transforms.ToTensor(),\n",
    "\n",
    "#     transforms.Normalize((0.4914, 0.4822, 0.4465), (0.247, 0.243, 0.261))\n",
    "\n",
    "# ])\n",
    "\n",
    "\n",
    "\n",
    "\n",
    "\n",
    "test_transforms = transforms.Compose([\n",
    "\n",
    "    transforms.ToTensor(),\n",
    "\n",
    "    transforms.Normalize((0.4914, 0.4822, 0.4465), (0.2023, 0.1994, 0.2010))\n",
    "\n",
    "])\n",
    "\n",
    "\n",
    "\n",
    "# Create in-memory datasets\n",
    "\n",
    "train_dataset = CIFAR10InMemoryDataset(train_images, train_labels, transform=train_transforms)\n",
    "\n",
    "test_dataset = CIFAR10InMemoryDataset(test_images, test_labels, transform=test_transforms)\n",
    "\n",
    "\n",
    "\n",
    "# Create DataLoaders with fewer workers\n",
    "\n",
    "train_loader = DataLoader(train_dataset, batch_size=128, shuffle=True, num_workers=0)\n",
    "\n",
    "test_loader = DataLoader(test_dataset, batch_size=128, shuffle=False, num_workers=0)\n"
   ]
  },
  {
   "cell_type": "markdown",
   "id": "1505f8ad",
   "metadata": {
    "papermill": {
     "duration": 0.002569,
     "end_time": "2024-11-11T12:26:02.004217",
     "exception": false,
     "start_time": "2024-11-11T12:26:02.001648",
     "status": "completed"
    },
    "tags": []
   },
   "source": [
    "### Hybrid Model"
   ]
  },
  {
   "cell_type": "code",
   "execution_count": 2,
   "id": "450d3257",
   "metadata": {
    "execution": {
     "iopub.execute_input": "2024-11-11T12:26:02.011264Z",
     "iopub.status.busy": "2024-11-11T12:26:02.010631Z",
     "iopub.status.idle": "2024-11-11T12:26:02.029517Z",
     "shell.execute_reply": "2024-11-11T12:26:02.028859Z"
    },
    "papermill": {
     "duration": 0.024526,
     "end_time": "2024-11-11T12:26:02.031441",
     "exception": false,
     "start_time": "2024-11-11T12:26:02.006915",
     "status": "completed"
    },
    "tags": []
   },
   "outputs": [],
   "source": [
    "import torch\n",
    "\n",
    "import torch.nn as nn\n",
    "\n",
    "import torch.nn.functional as F\n",
    "\n",
    "\n",
    "\n",
    "class PatchEmbedding(nn.Module):\n",
    "\n",
    "    def __init__(self, img_size=32, patch_size=4, in_channels=3, embed_dim=64):\n",
    "\n",
    "        super().__init__()\n",
    "\n",
    "        self.num_patches = (img_size // patch_size) ** 2\n",
    "\n",
    "        self.patch_size = patch_size\n",
    "\n",
    "        self.proj = nn.Conv2d(in_channels, embed_dim, kernel_size=patch_size, stride=patch_size)\n",
    "\n",
    "\n",
    "\n",
    "    def forward(self, x):\n",
    "\n",
    "        x = self.proj(x)  # Shape: (batch_size, embed_dim, num_patches**0.5, num_patches**0.5)\n",
    "\n",
    "        x = x.flatten(2)  # Flatten the spatial dimensions\n",
    "\n",
    "        x = x.transpose(1, 2)  # Shape: (batch_size, num_patches, embed_dim)\n",
    "\n",
    "        return x\n",
    "\n",
    "\n",
    "\n",
    "class HybridCNN(nn.Module):\n",
    "\n",
    "    def __init__(self, embed_dim=64):\n",
    "\n",
    "        super().__init__()\n",
    "\n",
    "        self.conv1 = nn.Conv2d(embed_dim, 128, kernel_size=3, padding=1)\n",
    "\n",
    "        self.conv2 = nn.Conv2d(128, 256, kernel_size=3, padding=1)\n",
    "\n",
    "        self.pool = nn.MaxPool2d(2, 2)  # Reduces spatial dimensions\n",
    "\n",
    "        self.conv3 = nn.Conv2d(256, 256, kernel_size=3, padding=1)\n",
    "\n",
    "        \n",
    "\n",
    "        # Adjust fc layer to match the flattened size\n",
    "\n",
    "        self.fc = nn.Linear(1024, 512)  # 256 * 2 * 2 = 1024\n",
    "\n",
    "\n",
    "\n",
    "    def forward(self, x):\n",
    "\n",
    "        batch_size, num_patches, embed_dim = x.shape\n",
    "\n",
    "        patch_size = int(num_patches**0.5)\n",
    "\n",
    "        \n",
    "\n",
    "        # Reshape x for CNN input\n",
    "\n",
    "        x = x.transpose(1, 2).view(batch_size, embed_dim, patch_size, patch_size)\n",
    "\n",
    "        \n",
    "\n",
    "        # CNN layers\n",
    "\n",
    "        x = F.relu(self.conv1(x))\n",
    "\n",
    "        x = self.pool(F.relu(self.conv2(x)))\n",
    "\n",
    "        x = self.pool(F.relu(self.conv3(x)))\n",
    "\n",
    "\n",
    "\n",
    "        # Flatten for MLP input\n",
    "\n",
    "        x = x.view(batch_size, -1)  # Shape will be (batch_size, 1024)\n",
    "\n",
    "        x = F.relu(self.fc(x))\n",
    "\n",
    "        return x\n",
    "\n",
    "\n",
    "\n",
    "\n",
    "\n",
    "class HybridMLPClassifier(nn.Module):\n",
    "\n",
    "    def __init__(self, in_features=512, num_classes=10):\n",
    "\n",
    "        super().__init__()\n",
    "\n",
    "        self.fc1 = nn.Linear(in_features, 256)\n",
    "\n",
    "        self.fc2 = nn.Linear(256, 128)\n",
    "\n",
    "        self.fc3 = nn.Linear(128, num_classes)\n",
    "\n",
    "        self.dropout = nn.Dropout(0.5)\n",
    "\n",
    "        \n",
    "\n",
    "    def forward(self, x):\n",
    "\n",
    "        x = F.relu(self.fc1(x))\n",
    "\n",
    "        x = self.dropout(x)\n",
    "\n",
    "        x = F.relu(self.fc2(x))\n",
    "\n",
    "        x = self.dropout(x)\n",
    "\n",
    "        x = self.fc3(x)\n",
    "\n",
    "        return x\n",
    "\n",
    "\n",
    "\n",
    "class HybridModel(nn.Module):\n",
    "\n",
    "    def __init__(self, img_size=32, patch_size=4, in_channels=3, embed_dim=64, num_classes=10):\n",
    "\n",
    "        super().__init__()\n",
    "\n",
    "        self.patch_embed = PatchEmbedding(img_size, patch_size, in_channels, embed_dim)\n",
    "\n",
    "        self.cnn_feature_extractor = HybridCNN(embed_dim)\n",
    "\n",
    "        self.classifier = HybridMLPClassifier(in_features=512, num_classes=num_classes)\n",
    "\n",
    "    \n",
    "\n",
    "    def forward(self, x):\n",
    "\n",
    "        x = self.patch_embed(x)  # Shape: (batch_size, num_patches, embed_dim)\n",
    "\n",
    "        x = self.cnn_feature_extractor(x)  # Shape: (batch_size, 512)\n",
    "\n",
    "        x = self.classifier(x)  # Shape: (batch_size, num_classes)\n",
    "\n",
    "        return x\n"
   ]
  },
  {
   "cell_type": "code",
   "execution_count": 3,
   "id": "961eadea",
   "metadata": {
    "execution": {
     "iopub.execute_input": "2024-11-11T12:26:02.038518Z",
     "iopub.status.busy": "2024-11-11T12:26:02.037961Z",
     "iopub.status.idle": "2024-11-11T13:30:09.721791Z",
     "shell.execute_reply": "2024-11-11T13:30:09.720766Z"
    },
    "papermill": {
     "duration": 3847.690197,
     "end_time": "2024-11-11T13:30:09.724476",
     "exception": false,
     "start_time": "2024-11-11T12:26:02.034279",
     "status": "completed"
    },
    "tags": []
   },
   "outputs": [
    {
     "name": "stderr",
     "output_type": "stream",
     "text": [
      "Training: 100%|██████████| 391/391 [01:16<00:00,  5.11it/s]\n"
     ]
    },
    {
     "name": "stdout",
     "output_type": "stream",
     "text": [
      "Epoch 1, Training Loss: 1.9273\n"
     ]
    },
    {
     "name": "stderr",
     "output_type": "stream",
     "text": [
      "Evaluating: 100%|██████████| 79/79 [00:01<00:00, 61.10it/s]\n"
     ]
    },
    {
     "name": "stdout",
     "output_type": "stream",
     "text": [
      "Validation Loss: 1.6583, Accuracy: 0.3571, Precision: 0.3568, Recall: 0.3571, F1-Score: 0.2941\n"
     ]
    },
    {
     "name": "stderr",
     "output_type": "stream",
     "text": [
      "Training: 100%|██████████| 391/391 [01:16<00:00,  5.09it/s]\n"
     ]
    },
    {
     "name": "stdout",
     "output_type": "stream",
     "text": [
      "Epoch 2, Training Loss: 1.6166\n"
     ]
    },
    {
     "name": "stderr",
     "output_type": "stream",
     "text": [
      "Evaluating: 100%|██████████| 79/79 [00:01<00:00, 64.88it/s]\n"
     ]
    },
    {
     "name": "stdout",
     "output_type": "stream",
     "text": [
      "Validation Loss: 1.4039, Accuracy: 0.4873, Precision: 0.5032, Recall: 0.4873, F1-Score: 0.4775\n"
     ]
    },
    {
     "name": "stderr",
     "output_type": "stream",
     "text": [
      "Training: 100%|██████████| 391/391 [01:14<00:00,  5.22it/s]\n"
     ]
    },
    {
     "name": "stdout",
     "output_type": "stream",
     "text": [
      "Epoch 3, Training Loss: 1.4394\n"
     ]
    },
    {
     "name": "stderr",
     "output_type": "stream",
     "text": [
      "Evaluating: 100%|██████████| 79/79 [00:01<00:00, 62.02it/s]\n"
     ]
    },
    {
     "name": "stdout",
     "output_type": "stream",
     "text": [
      "Validation Loss: 1.2147, Accuracy: 0.5642, Precision: 0.5763, Recall: 0.5642, F1-Score: 0.5631\n"
     ]
    },
    {
     "name": "stderr",
     "output_type": "stream",
     "text": [
      "Training: 100%|██████████| 391/391 [01:14<00:00,  5.23it/s]\n"
     ]
    },
    {
     "name": "stdout",
     "output_type": "stream",
     "text": [
      "Epoch 4, Training Loss: 1.3120\n"
     ]
    },
    {
     "name": "stderr",
     "output_type": "stream",
     "text": [
      "Evaluating: 100%|██████████| 79/79 [00:01<00:00, 62.95it/s]\n"
     ]
    },
    {
     "name": "stdout",
     "output_type": "stream",
     "text": [
      "Validation Loss: 1.1403, Accuracy: 0.5942, Precision: 0.5883, Recall: 0.5942, F1-Score: 0.5841\n"
     ]
    },
    {
     "name": "stderr",
     "output_type": "stream",
     "text": [
      "Training: 100%|██████████| 391/391 [01:15<00:00,  5.17it/s]\n"
     ]
    },
    {
     "name": "stdout",
     "output_type": "stream",
     "text": [
      "Epoch 5, Training Loss: 1.2307\n"
     ]
    },
    {
     "name": "stderr",
     "output_type": "stream",
     "text": [
      "Evaluating: 100%|██████████| 79/79 [00:01<00:00, 63.75it/s]\n"
     ]
    },
    {
     "name": "stdout",
     "output_type": "stream",
     "text": [
      "Validation Loss: 1.0818, Accuracy: 0.6239, Precision: 0.6240, Recall: 0.6239, F1-Score: 0.6208\n"
     ]
    },
    {
     "name": "stderr",
     "output_type": "stream",
     "text": [
      "Training: 100%|██████████| 391/391 [01:15<00:00,  5.18it/s]\n"
     ]
    },
    {
     "name": "stdout",
     "output_type": "stream",
     "text": [
      "Epoch 6, Training Loss: 1.1632\n"
     ]
    },
    {
     "name": "stderr",
     "output_type": "stream",
     "text": [
      "Evaluating: 100%|██████████| 79/79 [00:01<00:00, 66.91it/s]\n"
     ]
    },
    {
     "name": "stdout",
     "output_type": "stream",
     "text": [
      "Validation Loss: 1.0652, Accuracy: 0.6358, Precision: 0.6343, Recall: 0.6358, F1-Score: 0.6256\n"
     ]
    },
    {
     "name": "stderr",
     "output_type": "stream",
     "text": [
      "Training: 100%|██████████| 391/391 [01:14<00:00,  5.22it/s]\n"
     ]
    },
    {
     "name": "stdout",
     "output_type": "stream",
     "text": [
      "Epoch 7, Training Loss: 1.1163\n"
     ]
    },
    {
     "name": "stderr",
     "output_type": "stream",
     "text": [
      "Evaluating: 100%|██████████| 79/79 [00:01<00:00, 62.17it/s]\n"
     ]
    },
    {
     "name": "stdout",
     "output_type": "stream",
     "text": [
      "Validation Loss: 0.9795, Accuracy: 0.6616, Precision: 0.6591, Recall: 0.6616, F1-Score: 0.6564\n"
     ]
    },
    {
     "name": "stderr",
     "output_type": "stream",
     "text": [
      "Training: 100%|██████████| 391/391 [01:15<00:00,  5.21it/s]\n"
     ]
    },
    {
     "name": "stdout",
     "output_type": "stream",
     "text": [
      "Epoch 8, Training Loss: 1.0634\n"
     ]
    },
    {
     "name": "stderr",
     "output_type": "stream",
     "text": [
      "Evaluating: 100%|██████████| 79/79 [00:01<00:00, 63.84it/s]\n"
     ]
    },
    {
     "name": "stdout",
     "output_type": "stream",
     "text": [
      "Validation Loss: 0.9653, Accuracy: 0.6636, Precision: 0.6642, Recall: 0.6636, F1-Score: 0.6553\n"
     ]
    },
    {
     "name": "stderr",
     "output_type": "stream",
     "text": [
      "Training: 100%|██████████| 391/391 [01:15<00:00,  5.19it/s]\n"
     ]
    },
    {
     "name": "stdout",
     "output_type": "stream",
     "text": [
      "Epoch 9, Training Loss: 1.0417\n"
     ]
    },
    {
     "name": "stderr",
     "output_type": "stream",
     "text": [
      "Evaluating: 100%|██████████| 79/79 [00:01<00:00, 66.34it/s]\n"
     ]
    },
    {
     "name": "stdout",
     "output_type": "stream",
     "text": [
      "Validation Loss: 0.9676, Accuracy: 0.6659, Precision: 0.6772, Recall: 0.6659, F1-Score: 0.6635\n"
     ]
    },
    {
     "name": "stderr",
     "output_type": "stream",
     "text": [
      "Training: 100%|██████████| 391/391 [01:15<00:00,  5.15it/s]\n"
     ]
    },
    {
     "name": "stdout",
     "output_type": "stream",
     "text": [
      "Epoch 10, Training Loss: 0.9955\n"
     ]
    },
    {
     "name": "stderr",
     "output_type": "stream",
     "text": [
      "Evaluating: 100%|██████████| 79/79 [00:01<00:00, 66.69it/s]\n"
     ]
    },
    {
     "name": "stdout",
     "output_type": "stream",
     "text": [
      "Validation Loss: 0.9024, Accuracy: 0.6874, Precision: 0.6900, Recall: 0.6874, F1-Score: 0.6845\n"
     ]
    },
    {
     "name": "stderr",
     "output_type": "stream",
     "text": [
      "Training: 100%|██████████| 391/391 [01:15<00:00,  5.16it/s]\n"
     ]
    },
    {
     "name": "stdout",
     "output_type": "stream",
     "text": [
      "Epoch 11, Training Loss: 0.8949\n"
     ]
    },
    {
     "name": "stderr",
     "output_type": "stream",
     "text": [
      "Evaluating: 100%|██████████| 79/79 [00:01<00:00, 65.54it/s]\n"
     ]
    },
    {
     "name": "stdout",
     "output_type": "stream",
     "text": [
      "Validation Loss: 0.8263, Accuracy: 0.7140, Precision: 0.7117, Recall: 0.7140, F1-Score: 0.7118\n"
     ]
    },
    {
     "name": "stderr",
     "output_type": "stream",
     "text": [
      "Training: 100%|██████████| 391/391 [01:16<00:00,  5.13it/s]\n"
     ]
    },
    {
     "name": "stdout",
     "output_type": "stream",
     "text": [
      "Epoch 12, Training Loss: 0.8591\n"
     ]
    },
    {
     "name": "stderr",
     "output_type": "stream",
     "text": [
      "Evaluating: 100%|██████████| 79/79 [00:01<00:00, 65.17it/s]\n"
     ]
    },
    {
     "name": "stdout",
     "output_type": "stream",
     "text": [
      "Validation Loss: 0.8151, Accuracy: 0.7202, Precision: 0.7166, Recall: 0.7202, F1-Score: 0.7168\n"
     ]
    },
    {
     "name": "stderr",
     "output_type": "stream",
     "text": [
      "Training: 100%|██████████| 391/391 [01:16<00:00,  5.12it/s]\n"
     ]
    },
    {
     "name": "stdout",
     "output_type": "stream",
     "text": [
      "Epoch 13, Training Loss: 0.8479\n"
     ]
    },
    {
     "name": "stderr",
     "output_type": "stream",
     "text": [
      "Evaluating: 100%|██████████| 79/79 [00:01<00:00, 63.64it/s]\n"
     ]
    },
    {
     "name": "stdout",
     "output_type": "stream",
     "text": [
      "Validation Loss: 0.7973, Accuracy: 0.7267, Precision: 0.7232, Recall: 0.7267, F1-Score: 0.7238\n"
     ]
    },
    {
     "name": "stderr",
     "output_type": "stream",
     "text": [
      "Training: 100%|██████████| 391/391 [01:16<00:00,  5.12it/s]\n"
     ]
    },
    {
     "name": "stdout",
     "output_type": "stream",
     "text": [
      "Epoch 14, Training Loss: 0.8314\n"
     ]
    },
    {
     "name": "stderr",
     "output_type": "stream",
     "text": [
      "Evaluating: 100%|██████████| 79/79 [00:01<00:00, 63.20it/s]\n"
     ]
    },
    {
     "name": "stdout",
     "output_type": "stream",
     "text": [
      "Validation Loss: 0.7883, Accuracy: 0.7280, Precision: 0.7250, Recall: 0.7280, F1-Score: 0.7251\n"
     ]
    },
    {
     "name": "stderr",
     "output_type": "stream",
     "text": [
      "Training: 100%|██████████| 391/391 [01:15<00:00,  5.16it/s]\n"
     ]
    },
    {
     "name": "stdout",
     "output_type": "stream",
     "text": [
      "Epoch 15, Training Loss: 0.8209\n"
     ]
    },
    {
     "name": "stderr",
     "output_type": "stream",
     "text": [
      "Evaluating: 100%|██████████| 79/79 [00:01<00:00, 61.03it/s]\n"
     ]
    },
    {
     "name": "stdout",
     "output_type": "stream",
     "text": [
      "Validation Loss: 0.7894, Accuracy: 0.7292, Precision: 0.7287, Recall: 0.7292, F1-Score: 0.7281\n"
     ]
    },
    {
     "name": "stderr",
     "output_type": "stream",
     "text": [
      "Training: 100%|██████████| 391/391 [01:16<00:00,  5.14it/s]\n"
     ]
    },
    {
     "name": "stdout",
     "output_type": "stream",
     "text": [
      "Epoch 16, Training Loss: 0.8093\n"
     ]
    },
    {
     "name": "stderr",
     "output_type": "stream",
     "text": [
      "Evaluating: 100%|██████████| 79/79 [00:01<00:00, 64.36it/s]\n"
     ]
    },
    {
     "name": "stdout",
     "output_type": "stream",
     "text": [
      "Validation Loss: 0.7799, Accuracy: 0.7315, Precision: 0.7290, Recall: 0.7315, F1-Score: 0.7295\n"
     ]
    },
    {
     "name": "stderr",
     "output_type": "stream",
     "text": [
      "Training: 100%|██████████| 391/391 [01:17<00:00,  5.06it/s]\n"
     ]
    },
    {
     "name": "stdout",
     "output_type": "stream",
     "text": [
      "Epoch 17, Training Loss: 0.8091\n"
     ]
    },
    {
     "name": "stderr",
     "output_type": "stream",
     "text": [
      "Evaluating: 100%|██████████| 79/79 [00:01<00:00, 64.56it/s]\n"
     ]
    },
    {
     "name": "stdout",
     "output_type": "stream",
     "text": [
      "Validation Loss: 0.7726, Accuracy: 0.7346, Precision: 0.7315, Recall: 0.7346, F1-Score: 0.7320\n"
     ]
    },
    {
     "name": "stderr",
     "output_type": "stream",
     "text": [
      "Training: 100%|██████████| 391/391 [01:16<00:00,  5.11it/s]\n"
     ]
    },
    {
     "name": "stdout",
     "output_type": "stream",
     "text": [
      "Epoch 18, Training Loss: 0.7943\n"
     ]
    },
    {
     "name": "stderr",
     "output_type": "stream",
     "text": [
      "Evaluating: 100%|██████████| 79/79 [00:01<00:00, 65.59it/s]\n"
     ]
    },
    {
     "name": "stdout",
     "output_type": "stream",
     "text": [
      "Validation Loss: 0.7709, Accuracy: 0.7331, Precision: 0.7286, Recall: 0.7331, F1-Score: 0.7289\n"
     ]
    },
    {
     "name": "stderr",
     "output_type": "stream",
     "text": [
      "Training: 100%|██████████| 391/391 [01:15<00:00,  5.16it/s]\n"
     ]
    },
    {
     "name": "stdout",
     "output_type": "stream",
     "text": [
      "Epoch 19, Training Loss: 0.7875\n"
     ]
    },
    {
     "name": "stderr",
     "output_type": "stream",
     "text": [
      "Evaluating: 100%|██████████| 79/79 [00:01<00:00, 65.35it/s]\n"
     ]
    },
    {
     "name": "stdout",
     "output_type": "stream",
     "text": [
      "Validation Loss: 0.7672, Accuracy: 0.7367, Precision: 0.7346, Recall: 0.7367, F1-Score: 0.7342\n"
     ]
    },
    {
     "name": "stderr",
     "output_type": "stream",
     "text": [
      "Training: 100%|██████████| 391/391 [01:15<00:00,  5.15it/s]\n"
     ]
    },
    {
     "name": "stdout",
     "output_type": "stream",
     "text": [
      "Epoch 20, Training Loss: 0.7803\n"
     ]
    },
    {
     "name": "stderr",
     "output_type": "stream",
     "text": [
      "Evaluating: 100%|██████████| 79/79 [00:01<00:00, 65.55it/s]\n"
     ]
    },
    {
     "name": "stdout",
     "output_type": "stream",
     "text": [
      "Validation Loss: 0.7713, Accuracy: 0.7330, Precision: 0.7325, Recall: 0.7330, F1-Score: 0.7309\n"
     ]
    },
    {
     "name": "stderr",
     "output_type": "stream",
     "text": [
      "Training: 100%|██████████| 391/391 [01:16<00:00,  5.12it/s]\n"
     ]
    },
    {
     "name": "stdout",
     "output_type": "stream",
     "text": [
      "Epoch 21, Training Loss: 0.7692\n"
     ]
    },
    {
     "name": "stderr",
     "output_type": "stream",
     "text": [
      "Evaluating: 100%|██████████| 79/79 [00:01<00:00, 66.12it/s]\n"
     ]
    },
    {
     "name": "stdout",
     "output_type": "stream",
     "text": [
      "Validation Loss: 0.7604, Accuracy: 0.7369, Precision: 0.7346, Recall: 0.7369, F1-Score: 0.7348\n"
     ]
    },
    {
     "name": "stderr",
     "output_type": "stream",
     "text": [
      "Training: 100%|██████████| 391/391 [01:16<00:00,  5.14it/s]\n"
     ]
    },
    {
     "name": "stdout",
     "output_type": "stream",
     "text": [
      "Epoch 22, Training Loss: 0.7682\n"
     ]
    },
    {
     "name": "stderr",
     "output_type": "stream",
     "text": [
      "Evaluating: 100%|██████████| 79/79 [00:01<00:00, 64.34it/s]\n"
     ]
    },
    {
     "name": "stdout",
     "output_type": "stream",
     "text": [
      "Validation Loss: 0.7587, Accuracy: 0.7375, Precision: 0.7355, Recall: 0.7375, F1-Score: 0.7356\n"
     ]
    },
    {
     "name": "stderr",
     "output_type": "stream",
     "text": [
      "Training: 100%|██████████| 391/391 [01:16<00:00,  5.14it/s]\n"
     ]
    },
    {
     "name": "stdout",
     "output_type": "stream",
     "text": [
      "Epoch 23, Training Loss: 0.7623\n"
     ]
    },
    {
     "name": "stderr",
     "output_type": "stream",
     "text": [
      "Evaluating: 100%|██████████| 79/79 [00:01<00:00, 65.78it/s]\n"
     ]
    },
    {
     "name": "stdout",
     "output_type": "stream",
     "text": [
      "Validation Loss: 0.7582, Accuracy: 0.7377, Precision: 0.7353, Recall: 0.7377, F1-Score: 0.7355\n"
     ]
    },
    {
     "name": "stderr",
     "output_type": "stream",
     "text": [
      "Training: 100%|██████████| 391/391 [01:15<00:00,  5.16it/s]\n"
     ]
    },
    {
     "name": "stdout",
     "output_type": "stream",
     "text": [
      "Epoch 24, Training Loss: 0.7646\n"
     ]
    },
    {
     "name": "stderr",
     "output_type": "stream",
     "text": [
      "Evaluating: 100%|██████████| 79/79 [00:01<00:00, 65.19it/s]\n"
     ]
    },
    {
     "name": "stdout",
     "output_type": "stream",
     "text": [
      "Validation Loss: 0.7562, Accuracy: 0.7390, Precision: 0.7363, Recall: 0.7390, F1-Score: 0.7367\n"
     ]
    },
    {
     "name": "stderr",
     "output_type": "stream",
     "text": [
      "Training: 100%|██████████| 391/391 [01:16<00:00,  5.12it/s]\n"
     ]
    },
    {
     "name": "stdout",
     "output_type": "stream",
     "text": [
      "Epoch 25, Training Loss: 0.7648\n"
     ]
    },
    {
     "name": "stderr",
     "output_type": "stream",
     "text": [
      "Evaluating: 100%|██████████| 79/79 [00:01<00:00, 64.15it/s]\n"
     ]
    },
    {
     "name": "stdout",
     "output_type": "stream",
     "text": [
      "Validation Loss: 0.7568, Accuracy: 0.7375, Precision: 0.7350, Recall: 0.7375, F1-Score: 0.7353\n"
     ]
    },
    {
     "name": "stderr",
     "output_type": "stream",
     "text": [
      "Training: 100%|██████████| 391/391 [01:15<00:00,  5.15it/s]\n"
     ]
    },
    {
     "name": "stdout",
     "output_type": "stream",
     "text": [
      "Epoch 26, Training Loss: 0.7639\n"
     ]
    },
    {
     "name": "stderr",
     "output_type": "stream",
     "text": [
      "Evaluating: 100%|██████████| 79/79 [00:01<00:00, 64.33it/s]\n"
     ]
    },
    {
     "name": "stdout",
     "output_type": "stream",
     "text": [
      "Validation Loss: 0.7565, Accuracy: 0.7384, Precision: 0.7356, Recall: 0.7384, F1-Score: 0.7359\n"
     ]
    },
    {
     "name": "stderr",
     "output_type": "stream",
     "text": [
      "Training: 100%|██████████| 391/391 [01:15<00:00,  5.19it/s]\n"
     ]
    },
    {
     "name": "stdout",
     "output_type": "stream",
     "text": [
      "Epoch 27, Training Loss: 0.7635\n"
     ]
    },
    {
     "name": "stderr",
     "output_type": "stream",
     "text": [
      "Evaluating: 100%|██████████| 79/79 [00:01<00:00, 66.61it/s]\n"
     ]
    },
    {
     "name": "stdout",
     "output_type": "stream",
     "text": [
      "Validation Loss: 0.7546, Accuracy: 0.7388, Precision: 0.7363, Recall: 0.7388, F1-Score: 0.7366\n"
     ]
    },
    {
     "name": "stderr",
     "output_type": "stream",
     "text": [
      "Training: 100%|██████████| 391/391 [01:15<00:00,  5.20it/s]\n"
     ]
    },
    {
     "name": "stdout",
     "output_type": "stream",
     "text": [
      "Epoch 28, Training Loss: 0.7610\n"
     ]
    },
    {
     "name": "stderr",
     "output_type": "stream",
     "text": [
      "Evaluating: 100%|██████████| 79/79 [00:01<00:00, 66.35it/s]\n"
     ]
    },
    {
     "name": "stdout",
     "output_type": "stream",
     "text": [
      "Validation Loss: 0.7532, Accuracy: 0.7394, Precision: 0.7370, Recall: 0.7394, F1-Score: 0.7374\n"
     ]
    },
    {
     "name": "stderr",
     "output_type": "stream",
     "text": [
      "Training: 100%|██████████| 391/391 [01:15<00:00,  5.18it/s]\n"
     ]
    },
    {
     "name": "stdout",
     "output_type": "stream",
     "text": [
      "Epoch 29, Training Loss: 0.7598\n"
     ]
    },
    {
     "name": "stderr",
     "output_type": "stream",
     "text": [
      "Evaluating: 100%|██████████| 79/79 [00:01<00:00, 65.02it/s]\n"
     ]
    },
    {
     "name": "stdout",
     "output_type": "stream",
     "text": [
      "Validation Loss: 0.7538, Accuracy: 0.7399, Precision: 0.7382, Recall: 0.7399, F1-Score: 0.7381\n"
     ]
    },
    {
     "name": "stderr",
     "output_type": "stream",
     "text": [
      "Training: 100%|██████████| 391/391 [01:15<00:00,  5.16it/s]\n"
     ]
    },
    {
     "name": "stdout",
     "output_type": "stream",
     "text": [
      "Epoch 30, Training Loss: 0.7594\n"
     ]
    },
    {
     "name": "stderr",
     "output_type": "stream",
     "text": [
      "Evaluating: 100%|██████████| 79/79 [00:01<00:00, 66.64it/s]\n"
     ]
    },
    {
     "name": "stdout",
     "output_type": "stream",
     "text": [
      "Validation Loss: 0.7529, Accuracy: 0.7403, Precision: 0.7381, Recall: 0.7403, F1-Score: 0.7383\n"
     ]
    },
    {
     "name": "stderr",
     "output_type": "stream",
     "text": [
      "Training: 100%|██████████| 391/391 [01:15<00:00,  5.21it/s]\n"
     ]
    },
    {
     "name": "stdout",
     "output_type": "stream",
     "text": [
      "Epoch 31, Training Loss: 0.7556\n"
     ]
    },
    {
     "name": "stderr",
     "output_type": "stream",
     "text": [
      "Evaluating: 100%|██████████| 79/79 [00:01<00:00, 66.73it/s]\n"
     ]
    },
    {
     "name": "stdout",
     "output_type": "stream",
     "text": [
      "Validation Loss: 0.7528, Accuracy: 0.7396, Precision: 0.7373, Recall: 0.7396, F1-Score: 0.7375\n"
     ]
    },
    {
     "name": "stderr",
     "output_type": "stream",
     "text": [
      "Training: 100%|██████████| 391/391 [01:15<00:00,  5.18it/s]\n"
     ]
    },
    {
     "name": "stdout",
     "output_type": "stream",
     "text": [
      "Epoch 32, Training Loss: 0.7619\n"
     ]
    },
    {
     "name": "stderr",
     "output_type": "stream",
     "text": [
      "Evaluating: 100%|██████████| 79/79 [00:01<00:00, 63.83it/s]\n"
     ]
    },
    {
     "name": "stdout",
     "output_type": "stream",
     "text": [
      "Validation Loss: 0.7527, Accuracy: 0.7397, Precision: 0.7373, Recall: 0.7397, F1-Score: 0.7376\n"
     ]
    },
    {
     "name": "stderr",
     "output_type": "stream",
     "text": [
      "Training: 100%|██████████| 391/391 [01:14<00:00,  5.25it/s]\n"
     ]
    },
    {
     "name": "stdout",
     "output_type": "stream",
     "text": [
      "Epoch 33, Training Loss: 0.7514\n"
     ]
    },
    {
     "name": "stderr",
     "output_type": "stream",
     "text": [
      "Evaluating: 100%|██████████| 79/79 [00:01<00:00, 64.72it/s]\n"
     ]
    },
    {
     "name": "stdout",
     "output_type": "stream",
     "text": [
      "Validation Loss: 0.7527, Accuracy: 0.7395, Precision: 0.7372, Recall: 0.7395, F1-Score: 0.7374\n"
     ]
    },
    {
     "name": "stderr",
     "output_type": "stream",
     "text": [
      "Training: 100%|██████████| 391/391 [01:15<00:00,  5.21it/s]\n"
     ]
    },
    {
     "name": "stdout",
     "output_type": "stream",
     "text": [
      "Epoch 34, Training Loss: 0.7564\n"
     ]
    },
    {
     "name": "stderr",
     "output_type": "stream",
     "text": [
      "Evaluating: 100%|██████████| 79/79 [00:01<00:00, 62.50it/s]\n"
     ]
    },
    {
     "name": "stdout",
     "output_type": "stream",
     "text": [
      "Validation Loss: 0.7526, Accuracy: 0.7396, Precision: 0.7373, Recall: 0.7396, F1-Score: 0.7375\n"
     ]
    },
    {
     "name": "stderr",
     "output_type": "stream",
     "text": [
      "Training: 100%|██████████| 391/391 [01:15<00:00,  5.17it/s]\n"
     ]
    },
    {
     "name": "stdout",
     "output_type": "stream",
     "text": [
      "Epoch 35, Training Loss: 0.7588\n"
     ]
    },
    {
     "name": "stderr",
     "output_type": "stream",
     "text": [
      "Evaluating: 100%|██████████| 79/79 [00:01<00:00, 66.56it/s]\n"
     ]
    },
    {
     "name": "stdout",
     "output_type": "stream",
     "text": [
      "Validation Loss: 0.7527, Accuracy: 0.7390, Precision: 0.7367, Recall: 0.7390, F1-Score: 0.7369\n"
     ]
    },
    {
     "name": "stderr",
     "output_type": "stream",
     "text": [
      "Training: 100%|██████████| 391/391 [01:15<00:00,  5.21it/s]\n"
     ]
    },
    {
     "name": "stdout",
     "output_type": "stream",
     "text": [
      "Epoch 36, Training Loss: 0.7546\n"
     ]
    },
    {
     "name": "stderr",
     "output_type": "stream",
     "text": [
      "Evaluating: 100%|██████████| 79/79 [00:01<00:00, 66.97it/s]\n"
     ]
    },
    {
     "name": "stdout",
     "output_type": "stream",
     "text": [
      "Validation Loss: 0.7526, Accuracy: 0.7394, Precision: 0.7369, Recall: 0.7394, F1-Score: 0.7372\n"
     ]
    },
    {
     "name": "stderr",
     "output_type": "stream",
     "text": [
      "Training: 100%|██████████| 391/391 [01:16<00:00,  5.12it/s]\n"
     ]
    },
    {
     "name": "stdout",
     "output_type": "stream",
     "text": [
      "Epoch 37, Training Loss: 0.7559\n"
     ]
    },
    {
     "name": "stderr",
     "output_type": "stream",
     "text": [
      "Evaluating: 100%|██████████| 79/79 [00:01<00:00, 65.86it/s]\n"
     ]
    },
    {
     "name": "stdout",
     "output_type": "stream",
     "text": [
      "Validation Loss: 0.7526, Accuracy: 0.7393, Precision: 0.7370, Recall: 0.7393, F1-Score: 0.7372\n"
     ]
    },
    {
     "name": "stderr",
     "output_type": "stream",
     "text": [
      "Training: 100%|██████████| 391/391 [01:15<00:00,  5.19it/s]\n"
     ]
    },
    {
     "name": "stdout",
     "output_type": "stream",
     "text": [
      "Epoch 38, Training Loss: 0.7533\n"
     ]
    },
    {
     "name": "stderr",
     "output_type": "stream",
     "text": [
      "Evaluating: 100%|██████████| 79/79 [00:01<00:00, 66.71it/s]\n"
     ]
    },
    {
     "name": "stdout",
     "output_type": "stream",
     "text": [
      "Validation Loss: 0.7525, Accuracy: 0.7392, Precision: 0.7369, Recall: 0.7392, F1-Score: 0.7370\n"
     ]
    },
    {
     "name": "stderr",
     "output_type": "stream",
     "text": [
      "Training: 100%|██████████| 391/391 [01:16<00:00,  5.12it/s]\n"
     ]
    },
    {
     "name": "stdout",
     "output_type": "stream",
     "text": [
      "Epoch 39, Training Loss: 0.7585\n"
     ]
    },
    {
     "name": "stderr",
     "output_type": "stream",
     "text": [
      "Evaluating: 100%|██████████| 79/79 [00:01<00:00, 62.83it/s]\n"
     ]
    },
    {
     "name": "stdout",
     "output_type": "stream",
     "text": [
      "Validation Loss: 0.7525, Accuracy: 0.7394, Precision: 0.7371, Recall: 0.7394, F1-Score: 0.7372\n"
     ]
    },
    {
     "name": "stderr",
     "output_type": "stream",
     "text": [
      "Training: 100%|██████████| 391/391 [01:14<00:00,  5.22it/s]\n"
     ]
    },
    {
     "name": "stdout",
     "output_type": "stream",
     "text": [
      "Epoch 40, Training Loss: 0.7584\n"
     ]
    },
    {
     "name": "stderr",
     "output_type": "stream",
     "text": [
      "Evaluating: 100%|██████████| 79/79 [00:01<00:00, 66.36it/s]\n"
     ]
    },
    {
     "name": "stdout",
     "output_type": "stream",
     "text": [
      "Validation Loss: 0.7523, Accuracy: 0.7395, Precision: 0.7372, Recall: 0.7395, F1-Score: 0.7374\n"
     ]
    },
    {
     "name": "stderr",
     "output_type": "stream",
     "text": [
      "Training: 100%|██████████| 391/391 [01:14<00:00,  5.23it/s]\n"
     ]
    },
    {
     "name": "stdout",
     "output_type": "stream",
     "text": [
      "Epoch 41, Training Loss: 0.7570\n"
     ]
    },
    {
     "name": "stderr",
     "output_type": "stream",
     "text": [
      "Evaluating: 100%|██████████| 79/79 [00:01<00:00, 66.33it/s]\n"
     ]
    },
    {
     "name": "stdout",
     "output_type": "stream",
     "text": [
      "Validation Loss: 0.7523, Accuracy: 0.7395, Precision: 0.7372, Recall: 0.7395, F1-Score: 0.7374\n"
     ]
    },
    {
     "name": "stderr",
     "output_type": "stream",
     "text": [
      "Training: 100%|██████████| 391/391 [01:16<00:00,  5.14it/s]\n"
     ]
    },
    {
     "name": "stdout",
     "output_type": "stream",
     "text": [
      "Epoch 42, Training Loss: 0.7546\n"
     ]
    },
    {
     "name": "stderr",
     "output_type": "stream",
     "text": [
      "Evaluating: 100%|██████████| 79/79 [00:01<00:00, 67.33it/s]\n"
     ]
    },
    {
     "name": "stdout",
     "output_type": "stream",
     "text": [
      "Validation Loss: 0.7523, Accuracy: 0.7395, Precision: 0.7372, Recall: 0.7395, F1-Score: 0.7374\n"
     ]
    },
    {
     "name": "stderr",
     "output_type": "stream",
     "text": [
      "Training: 100%|██████████| 391/391 [01:14<00:00,  5.26it/s]\n"
     ]
    },
    {
     "name": "stdout",
     "output_type": "stream",
     "text": [
      "Epoch 43, Training Loss: 0.7591\n"
     ]
    },
    {
     "name": "stderr",
     "output_type": "stream",
     "text": [
      "Evaluating: 100%|██████████| 79/79 [00:01<00:00, 66.78it/s]\n"
     ]
    },
    {
     "name": "stdout",
     "output_type": "stream",
     "text": [
      "Validation Loss: 0.7523, Accuracy: 0.7394, Precision: 0.7370, Recall: 0.7394, F1-Score: 0.7373\n"
     ]
    },
    {
     "name": "stderr",
     "output_type": "stream",
     "text": [
      "Training: 100%|██████████| 391/391 [01:14<00:00,  5.22it/s]\n"
     ]
    },
    {
     "name": "stdout",
     "output_type": "stream",
     "text": [
      "Epoch 44, Training Loss: 0.7583\n"
     ]
    },
    {
     "name": "stderr",
     "output_type": "stream",
     "text": [
      "Evaluating: 100%|██████████| 79/79 [00:01<00:00, 52.43it/s]\n"
     ]
    },
    {
     "name": "stdout",
     "output_type": "stream",
     "text": [
      "Validation Loss: 0.7523, Accuracy: 0.7393, Precision: 0.7370, Recall: 0.7393, F1-Score: 0.7372\n"
     ]
    },
    {
     "name": "stderr",
     "output_type": "stream",
     "text": [
      "Training: 100%|██████████| 391/391 [01:14<00:00,  5.22it/s]\n"
     ]
    },
    {
     "name": "stdout",
     "output_type": "stream",
     "text": [
      "Epoch 45, Training Loss: 0.7538\n"
     ]
    },
    {
     "name": "stderr",
     "output_type": "stream",
     "text": [
      "Evaluating: 100%|██████████| 79/79 [00:01<00:00, 67.29it/s]\n"
     ]
    },
    {
     "name": "stdout",
     "output_type": "stream",
     "text": [
      "Validation Loss: 0.7523, Accuracy: 0.7393, Precision: 0.7370, Recall: 0.7393, F1-Score: 0.7372\n"
     ]
    },
    {
     "name": "stderr",
     "output_type": "stream",
     "text": [
      "Training: 100%|██████████| 391/391 [01:14<00:00,  5.22it/s]\n"
     ]
    },
    {
     "name": "stdout",
     "output_type": "stream",
     "text": [
      "Epoch 46, Training Loss: 0.7584\n"
     ]
    },
    {
     "name": "stderr",
     "output_type": "stream",
     "text": [
      "Evaluating: 100%|██████████| 79/79 [00:01<00:00, 64.32it/s]\n"
     ]
    },
    {
     "name": "stdout",
     "output_type": "stream",
     "text": [
      "Validation Loss: 0.7522, Accuracy: 0.7393, Precision: 0.7369, Recall: 0.7393, F1-Score: 0.7371\n"
     ]
    },
    {
     "name": "stderr",
     "output_type": "stream",
     "text": [
      "Training: 100%|██████████| 391/391 [01:15<00:00,  5.15it/s]\n"
     ]
    },
    {
     "name": "stdout",
     "output_type": "stream",
     "text": [
      "Epoch 47, Training Loss: 0.7601\n"
     ]
    },
    {
     "name": "stderr",
     "output_type": "stream",
     "text": [
      "Evaluating: 100%|██████████| 79/79 [00:01<00:00, 66.53it/s]\n"
     ]
    },
    {
     "name": "stdout",
     "output_type": "stream",
     "text": [
      "Validation Loss: 0.7522, Accuracy: 0.7395, Precision: 0.7372, Recall: 0.7395, F1-Score: 0.7374\n"
     ]
    },
    {
     "name": "stderr",
     "output_type": "stream",
     "text": [
      "Training: 100%|██████████| 391/391 [01:15<00:00,  5.19it/s]\n"
     ]
    },
    {
     "name": "stdout",
     "output_type": "stream",
     "text": [
      "Epoch 48, Training Loss: 0.7541\n"
     ]
    },
    {
     "name": "stderr",
     "output_type": "stream",
     "text": [
      "Evaluating: 100%|██████████| 79/79 [00:01<00:00, 66.58it/s]\n"
     ]
    },
    {
     "name": "stdout",
     "output_type": "stream",
     "text": [
      "Validation Loss: 0.7522, Accuracy: 0.7395, Precision: 0.7372, Recall: 0.7395, F1-Score: 0.7374\n"
     ]
    },
    {
     "name": "stderr",
     "output_type": "stream",
     "text": [
      "Training: 100%|██████████| 391/391 [01:15<00:00,  5.17it/s]\n"
     ]
    },
    {
     "name": "stdout",
     "output_type": "stream",
     "text": [
      "Epoch 49, Training Loss: 0.7573\n"
     ]
    },
    {
     "name": "stderr",
     "output_type": "stream",
     "text": [
      "Evaluating: 100%|██████████| 79/79 [00:01<00:00, 66.37it/s]\n"
     ]
    },
    {
     "name": "stdout",
     "output_type": "stream",
     "text": [
      "Validation Loss: 0.7522, Accuracy: 0.7394, Precision: 0.7371, Recall: 0.7394, F1-Score: 0.7373\n"
     ]
    },
    {
     "name": "stderr",
     "output_type": "stream",
     "text": [
      "Training: 100%|██████████| 391/391 [01:16<00:00,  5.13it/s]\n"
     ]
    },
    {
     "name": "stdout",
     "output_type": "stream",
     "text": [
      "Epoch 50, Training Loss: 0.7564\n"
     ]
    },
    {
     "name": "stderr",
     "output_type": "stream",
     "text": [
      "Evaluating: 100%|██████████| 79/79 [00:01<00:00, 66.14it/s]"
     ]
    },
    {
     "name": "stdout",
     "output_type": "stream",
     "text": [
      "Validation Loss: 0.7522, Accuracy: 0.7393, Precision: 0.7370, Recall: 0.7393, F1-Score: 0.7372\n",
      "Model saved as 'hybrid_cnn_mlp_best_model.pth'\n"
     ]
    },
    {
     "name": "stderr",
     "output_type": "stream",
     "text": [
      "\n"
     ]
    }
   ],
   "source": [
    "from tqdm import tqdm\n",
    "\n",
    "import torch\n",
    "\n",
    "import torch.nn as nn\n",
    "\n",
    "import torch.optim as optim\n",
    "\n",
    "import numpy as np\n",
    "\n",
    "from sklearn.metrics import accuracy_score, precision_score, recall_score, f1_score\n",
    "\n",
    "\n",
    "\n",
    "# Initialize the HybridModel\n",
    "\n",
    "device = torch.device('cuda' if torch.cuda.is_available() else 'cpu')\n",
    "\n",
    "model = HybridModel(img_size=32, patch_size=4, in_channels=3, embed_dim=64, num_classes=10).to(device)\n",
    "\n",
    "\n",
    "\n",
    "# Define criterion and optimizer\n",
    "\n",
    "criterion = nn.CrossEntropyLoss()\n",
    "\n",
    "optimizer = optim.AdamW(model.parameters(), lr=0.001)\n",
    "\n",
    "scheduler = optim.lr_scheduler.StepLR(optimizer, step_size=10, gamma=0.1)\n",
    "\n",
    "\n",
    "\n",
    "# Early stopping parameters\n",
    "\n",
    "patience = 3\n",
    "\n",
    "best_loss = np.inf\n",
    "\n",
    "epochs_no_improve = 0\n",
    "\n",
    "\n",
    "\n",
    "# Lists to store loss values for plotting\n",
    "\n",
    "train_losses = []\n",
    "\n",
    "val_losses = []\n",
    "\n",
    "\n",
    "\n",
    "# Training function\n",
    "\n",
    "def train(model, loader):\n",
    "\n",
    "    model.train()\n",
    "\n",
    "    total_loss = 0\n",
    "\n",
    "    for images, labels in tqdm(loader, desc=\"Training\"):\n",
    "\n",
    "        images, labels = images.to(device), labels.to(device).long()\n",
    "\n",
    "        optimizer.zero_grad()\n",
    "\n",
    "        outputs = model(images)\n",
    "\n",
    "        loss = criterion(outputs, labels)\n",
    "\n",
    "        loss.backward()\n",
    "\n",
    "        optimizer.step()\n",
    "\n",
    "        total_loss += loss.item()\n",
    "\n",
    "    return total_loss / len(loader)\n",
    "\n",
    "\n",
    "\n",
    "# Evaluation function with softmax for probabilities\n",
    "\n",
    "def evaluate(model, loader):\n",
    "\n",
    "    model.eval()\n",
    "\n",
    "    preds, true_labels = [], []\n",
    "\n",
    "    logits_list = []\n",
    "\n",
    "    with torch.no_grad():\n",
    "\n",
    "        for images, labels in tqdm(loader, desc=\"Evaluating\"):\n",
    "\n",
    "            images, labels = images.to(device), labels.to(device).long()\n",
    "\n",
    "            outputs = model(images)  # Raw logits\n",
    "\n",
    "            logits_list.append(outputs)  # Collect logits for validation loss calculation\n",
    "\n",
    "            probs = torch.softmax(outputs, dim=1)  # Apply softmax to get probabilities\n",
    "\n",
    "            _, predicted = torch.max(probs, 1)  # Get predicted classes\n",
    "\n",
    "            preds.extend(predicted.cpu().numpy())\n",
    "\n",
    "            true_labels.extend(labels.cpu().numpy())\n",
    "\n",
    "    return preds, true_labels, torch.cat(logits_list)\n",
    "\n",
    "\n",
    "\n",
    "# Training loop with early stopping and loss tracking\n",
    "\n",
    "n_epochs = 50\n",
    "\n",
    "for epoch in range(n_epochs):\n",
    "\n",
    "    # Training step\n",
    "\n",
    "    train_loss = train(model, train_loader)\n",
    "\n",
    "    train_losses.append(train_loss)  # Store training loss for this epoch\n",
    "\n",
    "    print(f\"Epoch {epoch + 1}, Training Loss: {train_loss:.4f}\")\n",
    "\n",
    "    \n",
    "\n",
    "    # Validation step\n",
    "\n",
    "    preds, true_labels, logits_tensor = evaluate(model, test_loader)\n",
    "\n",
    "    accuracy = accuracy_score(true_labels, preds)\n",
    "\n",
    "    precision = precision_score(true_labels, preds, average='macro')\n",
    "\n",
    "    recall = recall_score(true_labels, preds, average='macro')\n",
    "\n",
    "    f1 = f1_score(true_labels, preds, average='macro')\n",
    "\n",
    "    \n",
    "\n",
    "    # Calculate validation loss using logits\n",
    "\n",
    "    val_loss = criterion(logits_tensor, torch.tensor(true_labels).to(device).long()).item()\n",
    "\n",
    "    val_losses.append(val_loss)  # Store validation loss for plotting\n",
    "\n",
    "    \n",
    "\n",
    "    print(f\"Validation Loss: {val_loss:.4f}, Accuracy: {accuracy:.4f}, Precision: {precision:.4f}, Recall: {recall:.4f}, F1-Score: {f1:.4f}\")\n",
    "\n",
    "    \n",
    "\n",
    "    # Early stopping logic\n",
    "\n",
    "    if val_loss < best_loss:\n",
    "\n",
    "        best_loss = val_loss\n",
    "\n",
    "        epochs_no_improve = 0\n",
    "\n",
    "        best_model = model.state_dict()\n",
    "\n",
    "    else:\n",
    "\n",
    "        epochs_no_improve += 1\n",
    "\n",
    "    \n",
    "\n",
    "    # Check if early stopping criterion is met\n",
    "\n",
    "    if epochs_no_improve == patience:\n",
    "\n",
    "        print(\"Early stopping triggered. Restoring the best model.\")\n",
    "\n",
    "        model.load_state_dict(best_model)\n",
    "\n",
    "        break\n",
    "\n",
    "    \n",
    "\n",
    "    # Step the learning rate scheduler after each epoch\n",
    "\n",
    "    scheduler.step()\n",
    "\n",
    "\n",
    "\n",
    "# Restore the model with the lowest validation loss after training\n",
    "\n",
    "# model.load_state_dict(best_model)\n",
    "\n",
    "torch.save(best_model, 'hybrid_cnn_mlp_best_model.pth')\n",
    "\n",
    "print(\"Model saved as 'hybrid_cnn_mlp_best_model.pth'\")\n"
   ]
  },
  {
   "cell_type": "code",
   "execution_count": 4,
   "id": "b6b19189",
   "metadata": {
    "execution": {
     "iopub.execute_input": "2024-11-11T13:30:12.970776Z",
     "iopub.status.busy": "2024-11-11T13:30:12.970245Z",
     "iopub.status.idle": "2024-11-11T13:30:13.231166Z",
     "shell.execute_reply": "2024-11-11T13:30:13.230260Z"
    },
    "papermill": {
     "duration": 1.90465,
     "end_time": "2024-11-11T13:30:13.233272",
     "exception": false,
     "start_time": "2024-11-11T13:30:11.328622",
     "status": "completed"
    },
    "tags": []
   },
   "outputs": [
    {
     "data": {
      "image/png": "[encoded data removed]",
      "text/plain": [
       "<Figure size 1000x600 with 1 Axes>"
      ]
     },
     "metadata": {},
     "output_type": "display_data"
    }
   ],
   "source": [
    "import matplotlib.pyplot as plt\n",
    "\n",
    "\n",
    "\n",
    "# Plot Training and Validation Loss\n",
    "\n",
    "plt.figure(figsize=(10, 6))\n",
    "\n",
    "plt.plot(train_losses, label=\"Training Loss\")\n",
    "\n",
    "plt.plot(val_losses, label=\"Validation Loss\")\n",
    "\n",
    "plt.xlabel(\"Epochs\")\n",
    "\n",
    "plt.ylabel(\"Loss\")\n",
    "\n",
    "plt.title(\"Training and Validation Loss over Epochs\")\n",
    "\n",
    "plt.legend()\n",
    "\n",
    "plt.show()\n"
   ]
  },
  {
   "cell_type": "code",
   "execution_count": 5,
   "id": "4c85f9df",
   "metadata": {
    "execution": {
     "iopub.execute_input": "2024-11-11T13:30:16.509466Z",
     "iopub.status.busy": "2024-11-11T13:30:16.508661Z",
     "iopub.status.idle": "2024-11-11T13:30:18.117996Z",
     "shell.execute_reply": "2024-11-11T13:30:18.117102Z"
    },
    "papermill": {
     "duration": 3.256099,
     "end_time": "2024-11-11T13:30:18.120178",
     "exception": false,
     "start_time": "2024-11-11T13:30:14.864079",
     "status": "completed"
    },
    "tags": []
   },
   "outputs": [
    {
     "data": {
      "image/png": "[encoded data removed]",
      "text/plain": [
       "<Figure size 1000x800 with 2 Axes>"
      ]
     },
     "metadata": {},
     "output_type": "display_data"
    }
   ],
   "source": [
    "from sklearn.metrics import confusion_matrix\n",
    "\n",
    "import seaborn as sns\n",
    "\n",
    "import matplotlib.pyplot as plt\n",
    "\n",
    "\n",
    "\n",
    "def plot_confusion_matrix(true_labels, preds, class_names):\n",
    "\n",
    "    # Generate the confusion matrix\n",
    "\n",
    "    cm = confusion_matrix(true_labels, preds)\n",
    "\n",
    "    \n",
    "\n",
    "    # Plot the confusion matrix\n",
    "\n",
    "    plt.figure(figsize=(10, 8))\n",
    "\n",
    "    sns.heatmap(cm, annot=True, fmt=\"d\", cmap=\"Blues\", xticklabels=class_names, yticklabels=class_names)\n",
    "\n",
    "    plt.xlabel(\"Predicted Label\")\n",
    "\n",
    "    plt.ylabel(\"True Label\")\n",
    "\n",
    "    plt.title(\"Confusion Matrix\")\n",
    "\n",
    "    plt.show()\n",
    "\n",
    "\n",
    "\n",
    "# Assuming `class_names` contains the names of your classes\n",
    "\n",
    "class_names = ['airplane', 'automobile', 'bird', 'cat', 'deer', 'dog', 'frog', 'horse', 'ship', 'truck']\n",
    "\n",
    "\n",
    "\n",
    "# Example usage after evaluating the model\n",
    "\n",
    "plot_confusion_matrix(true_labels, preds, class_names)\n"
   ]
  },
  {
   "cell_type": "code",
   "execution_count": null,
   "id": "b33cd55e",
   "metadata": {
    "papermill": {
     "duration": 1.681095,
     "end_time": "2024-11-11T13:30:21.450019",
     "exception": false,
     "start_time": "2024-11-11T13:30:19.768924",
     "status": "completed"
    },
    "tags": []
   },
   "outputs": [],
   "source": []
  }
 ],
 "metadata": {
  "kaggle": {
   "accelerator": "gpu",
   "dataSources": [
    {
     "datasetId": 6058230,
     "sourceId": 9869374,
     "sourceType": "datasetVersion"
    }
   ],
   "isGpuEnabled": true,
   "isInternetEnabled": true,
   "language": "python",
   "sourceType": "notebook"
  },
  "kernelspec": {
   "display_name": "Python 3 (ipykernel)",
   "language": "python",
   "name": "python3"
  },
  "language_info": {
   "codemirror_mode": {
    "name": "ipython",
    "version": 3
   },
   "file_extension": ".py",
   "mimetype": "text/x-python",
   "name": "python",
   "nbconvert_exporter": "python",
   "pygments_lexer": "ipython3",
   "version": "3.11.7"
  },
  "papermill": {
   "default_parameters": {},
   "duration": 3871.658637,
   "end_time": "2024-11-11T13:30:24.817853",
   "environment_variables": {},
   "exception": null,
   "input_path": "__notebook__.ipynb",
   "output_path": "__notebook__.ipynb",
   "parameters": {},
   "start_time": "2024-11-11T12:25:53.159216",
   "version": "2.6.0"
  }
 },
 "nbformat": 4,
 "nbformat_minor": 5
}
