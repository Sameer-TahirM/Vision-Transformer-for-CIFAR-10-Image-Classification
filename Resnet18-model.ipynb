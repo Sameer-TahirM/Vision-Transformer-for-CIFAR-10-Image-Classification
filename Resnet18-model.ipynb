{
 "cells": [
  {
   "cell_type": "code",
   "execution_count": 1,
   "id": "2ec301a5",
   "metadata": {
    "execution": {
     "iopub.execute_input": "2024-11-11T16:41:27.963488Z",
     "iopub.status.busy": "2024-11-11T16:41:27.963169Z",
     "iopub.status.idle": "2024-11-11T16:41:35.045463Z",
     "shell.execute_reply": "2024-11-11T16:41:35.044379Z"
    },
    "papermill": {
     "duration": 7.090133,
     "end_time": "2024-11-11T16:41:35.047890",
     "exception": false,
     "start_time": "2024-11-11T16:41:27.957757",
     "status": "completed"
    },
    "tags": []
   },
   "outputs": [],
   "source": [
    "import pickle\n",
    "import numpy as np\n",
    "import torch\n",
    "from torch.utils.data import Dataset, DataLoader\n",
    "from torchvision import transforms\n",
    "from tqdm import tqdm\n",
    "\n",
    "class CIFAR10InMemoryDataset(Dataset):\n",
    "    def __init__(self, data, labels, transform=None):\n",
    "        self.data = data\n",
    "        self.labels = labels\n",
    "        self.transform = transform\n",
    "    \n",
    "    def __len__(self):\n",
    "        return len(self.data)\n",
    "    \n",
    "    def __getitem__(self, idx):\n",
    "        image = self.data[idx]\n",
    "        label = self.labels[idx]\n",
    "        if self.transform:\n",
    "            image = self.transform(image)\n",
    "        return image, label\n",
    "\n",
    "# Preload data into memory\n",
    "def load_cifar10_in_memory(data_dir):\n",
    "    images, labels = [], []\n",
    "    for i in range(1, 6):\n",
    "        with open(f\"{data_dir}/data_batch_{i}\", 'rb') as f:\n",
    "            batch = pickle.load(f, encoding='bytes')\n",
    "            images.append(batch[b'data'])\n",
    "            labels.extend(batch[b'labels'])\n",
    "    images = np.vstack(images).reshape(-1, 3, 32, 32).transpose(0, 2, 3, 1)  # Reshape and reorder dimensions\n",
    "    labels = np.array(labels)\n",
    "\n",
    "    # Load test data\n",
    "    with open(f\"{data_dir}/test_batch\", 'rb') as f:\n",
    "        batch = pickle.load(f, encoding='bytes')\n",
    "        test_images = batch[b'data'].reshape(-1, 3, 32, 32).transpose(0, 2, 3, 1)\n",
    "        test_labels = np.array(batch[b'labels'])\n",
    "        \n",
    "    return images, labels, test_images, test_labels\n",
    "\n",
    "# Load CIFAR-10 data into memory\n",
    "data_dir = \"/kaggle/input/cifar-data/cifar-10-batches-py\"\n",
    "train_images, train_labels, test_images, test_labels = load_cifar10_in_memory(data_dir)\n",
    "\n",
    "# Define simple transforms\n",
    "train_transforms = transforms.Compose([\n",
    "    transforms.ToTensor(),\n",
    "    transforms.RandomCrop(32, padding=4),\n",
    "    transforms.ColorJitter(brightness=0.2, contrast=0.2, saturation=0.2, hue=0.1),\n",
    "    transforms.RandomHorizontalFlip(),\n",
    "    transforms.Normalize((0.4914, 0.4822, 0.4465), (0.2023, 0.1994, 0.2010))\n",
    "])\n",
    "\n",
    "\n",
    "test_transforms = transforms.Compose([\n",
    "    transforms.ToTensor(),\n",
    "    transforms.Normalize((0.4914, 0.4822, 0.4465), (0.2023, 0.1994, 0.2010))\n",
    "])\n",
    "\n",
    "# Create in-memory datasets\n",
    "train_dataset = CIFAR10InMemoryDataset(train_images, train_labels, transform=train_transforms)\n",
    "test_dataset = CIFAR10InMemoryDataset(test_images, test_labels, transform=test_transforms)\n",
    "\n",
    "# Create DataLoaders with fewer workers\n",
    "train_loader = DataLoader(train_dataset, batch_size=512, shuffle=True, num_workers=0)\n",
    "test_loader = DataLoader(test_dataset, batch_size=512, shuffle=False, num_workers=0)\n"
   ]
  },
  {
   "cell_type": "markdown",
   "id": "493056a5",
   "metadata": {
    "papermill": {
     "duration": 0.00372,
     "end_time": "2024-11-11T16:41:35.055991",
     "exception": false,
     "start_time": "2024-11-11T16:41:35.052271",
     "status": "completed"
    },
    "tags": []
   },
   "source": [
    "### Pre-Trained ResNet Model"
   ]
  },
  {
   "cell_type": "code",
   "execution_count": 2,
   "id": "1571b089",
   "metadata": {
    "execution": {
     "iopub.execute_input": "2024-11-11T16:41:35.064892Z",
     "iopub.status.busy": "2024-11-11T16:41:35.064453Z",
     "iopub.status.idle": "2024-11-11T17:23:03.000720Z",
     "shell.execute_reply": "2024-11-11T17:23:02.999324Z"
    },
    "papermill": {
     "duration": 2487.943403,
     "end_time": "2024-11-11T17:23:03.003144",
     "exception": false,
     "start_time": "2024-11-11T16:41:35.059741",
     "status": "completed"
    },
    "tags": []
   },
   "outputs": [
    {
     "name": "stderr",
     "output_type": "stream",
     "text": [
      "/opt/conda/lib/python3.10/site-packages/torchvision/models/_utils.py:208: UserWarning: The parameter 'pretrained' is deprecated since 0.13 and may be removed in the future, please use 'weights' instead.\n",
      "  warnings.warn(\n",
      "/opt/conda/lib/python3.10/site-packages/torchvision/models/_utils.py:223: UserWarning: Arguments other than a weight enum or `None` for 'weights' are deprecated since 0.13 and may be removed in the future. The current behavior is equivalent to passing `weights=ResNet18_Weights.IMAGENET1K_V1`. You can also use `weights=ResNet18_Weights.DEFAULT` to get the most up-to-date weights.\n",
      "  warnings.warn(msg)\n",
      "Downloading: \"https://download.pytorch.org/models/resnet18-f37072fd.pth\" to /root/.cache/torch/hub/checkpoints/resnet18-f37072fd.pth\n",
      "100%|██████████| 44.7M/44.7M [00:00<00:00, 62.8MB/s]\n",
      "Epoch [1/30] Training: 100%|██████████| 98/98 [01:13<00:00,  1.34it/s]\n"
     ]
    },
    {
     "name": "stdout",
     "output_type": "stream",
     "text": [
      "Epoch [1/30], Training Loss: 2.0275\n",
      "Epoch [1/30], Validation Loss (Test Set): 1.8029\n"
     ]
    },
    {
     "name": "stderr",
     "output_type": "stream",
     "text": [
      "Epoch [2/30] Training: 100%|██████████| 98/98 [01:12<00:00,  1.36it/s]\n"
     ]
    },
    {
     "name": "stdout",
     "output_type": "stream",
     "text": [
      "Epoch [2/30], Training Loss: 1.8081\n",
      "Epoch [2/30], Validation Loss (Test Set): 1.7357\n"
     ]
    },
    {
     "name": "stderr",
     "output_type": "stream",
     "text": [
      "Epoch [3/30] Training: 100%|██████████| 98/98 [01:11<00:00,  1.37it/s]\n"
     ]
    },
    {
     "name": "stdout",
     "output_type": "stream",
     "text": [
      "Epoch [3/30], Training Loss: 1.7622\n",
      "Epoch [3/30], Validation Loss (Test Set): 1.7226\n"
     ]
    },
    {
     "name": "stderr",
     "output_type": "stream",
     "text": [
      "Epoch [4/30] Training: 100%|██████████| 98/98 [01:10<00:00,  1.38it/s]\n"
     ]
    },
    {
     "name": "stdout",
     "output_type": "stream",
     "text": [
      "Epoch [4/30], Training Loss: 1.7507\n",
      "Epoch [4/30], Validation Loss (Test Set): 1.7064\n"
     ]
    },
    {
     "name": "stderr",
     "output_type": "stream",
     "text": [
      "Epoch [5/30] Training: 100%|██████████| 98/98 [01:11<00:00,  1.38it/s]\n"
     ]
    },
    {
     "name": "stdout",
     "output_type": "stream",
     "text": [
      "Epoch [5/30], Training Loss: 1.7435\n",
      "Epoch [5/30], Validation Loss (Test Set): 1.7020\n"
     ]
    },
    {
     "name": "stderr",
     "output_type": "stream",
     "text": [
      "Epoch [6/30] Training: 100%|██████████| 98/98 [01:12<00:00,  1.36it/s]\n"
     ]
    },
    {
     "name": "stdout",
     "output_type": "stream",
     "text": [
      "Epoch [6/30], Training Loss: 1.7309\n",
      "Epoch [6/30], Validation Loss (Test Set): 1.7059\n"
     ]
    },
    {
     "name": "stderr",
     "output_type": "stream",
     "text": [
      "Epoch [7/30] Training: 100%|██████████| 98/98 [01:10<00:00,  1.39it/s]\n"
     ]
    },
    {
     "name": "stdout",
     "output_type": "stream",
     "text": [
      "Epoch [7/30], Training Loss: 1.7260\n",
      "Epoch [7/30], Validation Loss (Test Set): 1.6861\n"
     ]
    },
    {
     "name": "stderr",
     "output_type": "stream",
     "text": [
      "Epoch [8/30] Training: 100%|██████████| 98/98 [01:11<00:00,  1.38it/s]\n"
     ]
    },
    {
     "name": "stdout",
     "output_type": "stream",
     "text": [
      "Epoch [8/30], Training Loss: 1.7188\n",
      "Epoch [8/30], Validation Loss (Test Set): 1.6831\n"
     ]
    },
    {
     "name": "stderr",
     "output_type": "stream",
     "text": [
      "Epoch [9/30] Training: 100%|██████████| 98/98 [01:11<00:00,  1.38it/s]\n"
     ]
    },
    {
     "name": "stdout",
     "output_type": "stream",
     "text": [
      "Epoch [9/30], Training Loss: 1.7086\n",
      "Epoch [9/30], Validation Loss (Test Set): 1.6784\n"
     ]
    },
    {
     "name": "stderr",
     "output_type": "stream",
     "text": [
      "Epoch [10/30] Training: 100%|██████████| 98/98 [01:17<00:00,  1.27it/s]\n"
     ]
    },
    {
     "name": "stdout",
     "output_type": "stream",
     "text": [
      "Epoch [10/30], Training Loss: 1.7151\n",
      "Epoch [10/30], Validation Loss (Test Set): 1.6930\n"
     ]
    },
    {
     "name": "stderr",
     "output_type": "stream",
     "text": [
      "Epoch [11/30] Training: 100%|██████████| 98/98 [01:24<00:00,  1.16it/s]\n"
     ]
    },
    {
     "name": "stdout",
     "output_type": "stream",
     "text": [
      "Epoch [11/30], Training Loss: 1.7139\n",
      "Epoch [11/30], Validation Loss (Test Set): 1.6976\n"
     ]
    },
    {
     "name": "stderr",
     "output_type": "stream",
     "text": [
      "Epoch [12/30] Training: 100%|██████████| 98/98 [01:22<00:00,  1.18it/s]\n"
     ]
    },
    {
     "name": "stdout",
     "output_type": "stream",
     "text": [
      "Epoch [12/30], Training Loss: 1.7158\n",
      "Epoch [12/30], Validation Loss (Test Set): 1.6842\n"
     ]
    },
    {
     "name": "stderr",
     "output_type": "stream",
     "text": [
      "Epoch [13/30] Training: 100%|██████████| 98/98 [01:24<00:00,  1.16it/s]\n"
     ]
    },
    {
     "name": "stdout",
     "output_type": "stream",
     "text": [
      "Epoch [13/30], Training Loss: 1.7170\n",
      "Epoch [13/30], Validation Loss (Test Set): 1.6836\n"
     ]
    },
    {
     "name": "stderr",
     "output_type": "stream",
     "text": [
      "Epoch [14/30] Training: 100%|██████████| 98/98 [01:25<00:00,  1.14it/s]\n"
     ]
    },
    {
     "name": "stdout",
     "output_type": "stream",
     "text": [
      "Epoch [14/30], Training Loss: 1.7101\n",
      "Epoch [14/30], Validation Loss (Test Set): 1.6824\n"
     ]
    },
    {
     "name": "stderr",
     "output_type": "stream",
     "text": [
      "Epoch [15/30] Training: 100%|██████████| 98/98 [01:25<00:00,  1.14it/s]\n"
     ]
    },
    {
     "name": "stdout",
     "output_type": "stream",
     "text": [
      "Epoch [15/30], Training Loss: 1.7152\n",
      "Epoch [15/30], Validation Loss (Test Set): 1.6801\n"
     ]
    },
    {
     "name": "stderr",
     "output_type": "stream",
     "text": [
      "Epoch [16/30] Training: 100%|██████████| 98/98 [01:23<00:00,  1.17it/s]\n"
     ]
    },
    {
     "name": "stdout",
     "output_type": "stream",
     "text": [
      "Epoch [16/30], Training Loss: 1.7042\n",
      "Epoch [16/30], Validation Loss (Test Set): 1.6809\n"
     ]
    },
    {
     "name": "stderr",
     "output_type": "stream",
     "text": [
      "Epoch [17/30] Training: 100%|██████████| 98/98 [01:26<00:00,  1.13it/s]\n"
     ]
    },
    {
     "name": "stdout",
     "output_type": "stream",
     "text": [
      "Epoch [17/30], Training Loss: 1.7096\n",
      "Epoch [17/30], Validation Loss (Test Set): 1.6856\n"
     ]
    },
    {
     "name": "stderr",
     "output_type": "stream",
     "text": [
      "Epoch [18/30] Training: 100%|██████████| 98/98 [01:29<00:00,  1.10it/s]\n"
     ]
    },
    {
     "name": "stdout",
     "output_type": "stream",
     "text": [
      "Epoch [18/30], Training Loss: 1.7096\n",
      "Epoch [18/30], Validation Loss (Test Set): 1.6800\n"
     ]
    },
    {
     "name": "stderr",
     "output_type": "stream",
     "text": [
      "Epoch [19/30] Training: 100%|██████████| 98/98 [01:25<00:00,  1.14it/s]\n"
     ]
    },
    {
     "name": "stdout",
     "output_type": "stream",
     "text": [
      "Epoch [19/30], Training Loss: 1.7135\n",
      "Epoch [19/30], Validation Loss (Test Set): 1.6826\n"
     ]
    },
    {
     "name": "stderr",
     "output_type": "stream",
     "text": [
      "Epoch [20/30] Training: 100%|██████████| 98/98 [01:25<00:00,  1.14it/s]\n"
     ]
    },
    {
     "name": "stdout",
     "output_type": "stream",
     "text": [
      "Epoch [20/30], Training Loss: 1.7022\n",
      "Epoch [20/30], Validation Loss (Test Set): 1.6805\n"
     ]
    },
    {
     "name": "stderr",
     "output_type": "stream",
     "text": [
      "Epoch [21/30] Training: 100%|██████████| 98/98 [01:27<00:00,  1.12it/s]\n"
     ]
    },
    {
     "name": "stdout",
     "output_type": "stream",
     "text": [
      "Epoch [21/30], Training Loss: 1.7132\n",
      "Epoch [21/30], Validation Loss (Test Set): 1.6795\n"
     ]
    },
    {
     "name": "stderr",
     "output_type": "stream",
     "text": [
      "Epoch [22/30] Training: 100%|██████████| 98/98 [01:26<00:00,  1.14it/s]\n"
     ]
    },
    {
     "name": "stdout",
     "output_type": "stream",
     "text": [
      "Epoch [22/30], Training Loss: 1.7092\n",
      "Epoch [22/30], Validation Loss (Test Set): 1.6840\n"
     ]
    },
    {
     "name": "stderr",
     "output_type": "stream",
     "text": [
      "Epoch [23/30] Training: 100%|██████████| 98/98 [01:27<00:00,  1.11it/s]\n"
     ]
    },
    {
     "name": "stdout",
     "output_type": "stream",
     "text": [
      "Epoch [23/30], Training Loss: 1.7147\n",
      "Epoch [23/30], Validation Loss (Test Set): 1.6805\n"
     ]
    },
    {
     "name": "stderr",
     "output_type": "stream",
     "text": [
      "Epoch [24/30] Training: 100%|██████████| 98/98 [01:25<00:00,  1.14it/s]\n"
     ]
    },
    {
     "name": "stdout",
     "output_type": "stream",
     "text": [
      "Epoch [24/30], Training Loss: 1.7091\n",
      "Epoch [24/30], Validation Loss (Test Set): 1.6847\n"
     ]
    },
    {
     "name": "stderr",
     "output_type": "stream",
     "text": [
      "Epoch [25/30] Training: 100%|██████████| 98/98 [01:27<00:00,  1.12it/s]\n"
     ]
    },
    {
     "name": "stdout",
     "output_type": "stream",
     "text": [
      "Epoch [25/30], Training Loss: 1.7080\n",
      "Epoch [25/30], Validation Loss (Test Set): 1.6837\n"
     ]
    },
    {
     "name": "stderr",
     "output_type": "stream",
     "text": [
      "Epoch [26/30] Training: 100%|██████████| 98/98 [01:27<00:00,  1.12it/s]\n"
     ]
    },
    {
     "name": "stdout",
     "output_type": "stream",
     "text": [
      "Epoch [26/30], Training Loss: 1.7079\n",
      "Epoch [26/30], Validation Loss (Test Set): 1.6801\n"
     ]
    },
    {
     "name": "stderr",
     "output_type": "stream",
     "text": [
      "Epoch [27/30] Training: 100%|██████████| 98/98 [01:25<00:00,  1.15it/s]\n"
     ]
    },
    {
     "name": "stdout",
     "output_type": "stream",
     "text": [
      "Epoch [27/30], Training Loss: 1.7064\n",
      "Epoch [27/30], Validation Loss (Test Set): 1.6836\n"
     ]
    },
    {
     "name": "stderr",
     "output_type": "stream",
     "text": [
      "Epoch [28/30] Training: 100%|██████████| 98/98 [01:25<00:00,  1.14it/s]\n"
     ]
    },
    {
     "name": "stdout",
     "output_type": "stream",
     "text": [
      "Epoch [28/30], Training Loss: 1.7067\n",
      "Epoch [28/30], Validation Loss (Test Set): 1.6782\n"
     ]
    },
    {
     "name": "stderr",
     "output_type": "stream",
     "text": [
      "Epoch [29/30] Training: 100%|██████████| 98/98 [01:26<00:00,  1.13it/s]\n"
     ]
    },
    {
     "name": "stdout",
     "output_type": "stream",
     "text": [
      "Epoch [29/30], Training Loss: 1.7071\n",
      "Epoch [29/30], Validation Loss (Test Set): 1.6910\n"
     ]
    },
    {
     "name": "stderr",
     "output_type": "stream",
     "text": [
      "Epoch [30/30] Training: 100%|██████████| 98/98 [01:24<00:00,  1.17it/s]\n"
     ]
    },
    {
     "name": "stdout",
     "output_type": "stream",
     "text": [
      "Epoch [30/30], Training Loss: 1.7086\n",
      "Epoch [30/30], Validation Loss (Test Set): 1.6862\n"
     ]
    }
   ],
   "source": [
    "from tqdm import tqdm\n",
    "import torch\n",
    "import torch.nn as nn\n",
    "import torch.optim as optim\n",
    "from torchvision import models, transforms\n",
    "from torch.utils.data import DataLoader\n",
    "from torchvision.datasets import CIFAR10\n",
    "from sklearn.metrics import accuracy_score, precision_score, recall_score, f1_score\n",
    "import matplotlib.pyplot as plt\n",
    "\n",
    "# Device configuration\n",
    "device = torch.device('cuda' if torch.cuda.is_available() else 'cpu')\n",
    "\n",
    "# Load the pretrained ResNet model (e.g., ResNet18)\n",
    "resnet_model = models.resnet18(pretrained=True)\n",
    "resnet_model = resnet_model.to(device)\n",
    "\n",
    "# Freeze the pretrained layers\n",
    "for param in resnet_model.parameters():\n",
    "    param.requires_grad = False\n",
    "\n",
    "# Modify the final fully connected layer for CIFAR-10 (10 classes)\n",
    "num_features = resnet_model.fc.in_features\n",
    "resnet_model.fc = nn.Linear(num_features, 10)  # 10 output classes for CIFAR-10\n",
    "resnet_model.fc = resnet_model.fc.to(device)\n",
    "\n",
    "# Define loss and optimizer (only train the final classifier layer)\n",
    "criterion = nn.CrossEntropyLoss()\n",
    "optimizer = optim.Adam(resnet_model.fc.parameters(), lr=0.001)  # Only train the final layer\n",
    "\n",
    "# Training and validation loop\n",
    "n_epochs = 30  # Specify the number of epochs\n",
    "train_losses = []\n",
    "val_losses = []\n",
    "\n",
    "for epoch in range(n_epochs):\n",
    "    # Training phase\n",
    "    resnet_model.train()\n",
    "    total_train_loss = 0\n",
    "    for images, labels in tqdm(train_loader, desc=f\"Epoch [{epoch+1}/{n_epochs}] Training\"):\n",
    "        images, labels = images.to(device), labels.to(device).long()  # Ensure labels are of type torch.long\n",
    "\n",
    "        # Forward pass\n",
    "        outputs = resnet_model(images)\n",
    "        loss = criterion(outputs, labels)\n",
    "\n",
    "        # Backward and optimize\n",
    "        optimizer.zero_grad()\n",
    "        loss.backward()\n",
    "        optimizer.step()\n",
    "        total_train_loss += loss.item()\n",
    "    \n",
    "    avg_train_loss = total_train_loss / len(train_loader)\n",
    "    train_losses.append(avg_train_loss)\n",
    "    print(f\"Epoch [{epoch+1}/{n_epochs}], Training Loss: {avg_train_loss:.4f}\")\n",
    "\n",
    "    # Validation phase (using test_loader)\n",
    "    resnet_model.eval()\n",
    "    total_val_loss = 0\n",
    "    with torch.no_grad():\n",
    "        for images, labels in test_loader:  # Use test_loader instead of val_loader\n",
    "            images, labels = images.to(device), labels.to(device)\n",
    "            outputs = resnet_model(images)\n",
    "            loss = criterion(outputs, labels)\n",
    "            total_val_loss += loss.item()\n",
    "    \n",
    "    avg_val_loss = total_val_loss / len(test_loader)\n",
    "    val_losses.append(avg_val_loss)\n",
    "    print(f\"Epoch [{epoch+1}/{n_epochs}], Validation Loss (Test Set): {avg_val_loss:.4f}\")\n",
    "\n"
   ]
  },
  {
   "cell_type": "code",
   "execution_count": 3,
   "id": "4195abd4",
   "metadata": {
    "execution": {
     "iopub.execute_input": "2024-11-11T17:23:03.537271Z",
     "iopub.status.busy": "2024-11-11T17:23:03.536314Z",
     "iopub.status.idle": "2024-11-11T17:23:03.621026Z",
     "shell.execute_reply": "2024-11-11T17:23:03.619995Z"
    },
    "papermill": {
     "duration": 0.356869,
     "end_time": "2024-11-11T17:23:03.623327",
     "exception": false,
     "start_time": "2024-11-11T17:23:03.266458",
     "status": "completed"
    },
    "tags": []
   },
   "outputs": [
    {
     "name": "stdout",
     "output_type": "stream",
     "text": [
      "Entire model saved as 'resnet18_cifar10_full_model.pth'\n"
     ]
    }
   ],
   "source": [
    "# Save the entire model after training\n",
    "torch.save(resnet_model, 'resnet18_PRETRAIN_full_model.pth')\n",
    "print(\"Entire model saved as 'resnet18_cifar10_full_model.pth'\")\n"
   ]
  },
  {
   "cell_type": "code",
   "execution_count": 4,
   "id": "2538fce1",
   "metadata": {
    "execution": {
     "iopub.execute_input": "2024-11-11T17:23:04.142793Z",
     "iopub.status.busy": "2024-11-11T17:23:04.141968Z",
     "iopub.status.idle": "2024-11-11T17:23:04.495923Z",
     "shell.execute_reply": "2024-11-11T17:23:04.494768Z"
    },
    "papermill": {
     "duration": 0.617079,
     "end_time": "2024-11-11T17:23:04.498322",
     "exception": false,
     "start_time": "2024-11-11T17:23:03.881243",
     "status": "completed"
    },
    "tags": []
   },
   "outputs": [
    {
     "data": {
      "image/png": "[encoded data removed]",
      "text/plain": [
       "<Figure size 640x480 with 1 Axes>"
      ]
     },
     "metadata": {},
     "output_type": "display_data"
    }
   ],
   "source": [
    "# Plotting training and validation loss\n",
    "plt.plot(range(1, n_epochs + 1), train_losses, label='Training Loss')\n",
    "plt.plot(range(1, n_epochs + 1), val_losses, label='Validation Loss (Test Set)')\n",
    "plt.xlabel('Epochs')\n",
    "plt.ylabel('Loss')\n",
    "plt.title('Training and Validation Loss')\n",
    "plt.legend()\n",
    "plt.show()\n"
   ]
  },
  {
   "cell_type": "markdown",
   "id": "3bdd3cac",
   "metadata": {
    "papermill": {
     "duration": 0.259319,
     "end_time": "2024-11-11T17:23:05.024564",
     "exception": false,
     "start_time": "2024-11-11T17:23:04.765245",
     "status": "completed"
    },
    "tags": []
   },
   "source": [
    "## Implementing ResNet-18 from Scratch"
   ]
  },
  {
   "cell_type": "code",
   "execution_count": 5,
   "id": "931f556d",
   "metadata": {
    "execution": {
     "iopub.execute_input": "2024-11-11T17:23:05.546439Z",
     "iopub.status.busy": "2024-11-11T17:23:05.545444Z",
     "iopub.status.idle": "2024-11-11T17:23:05.555214Z",
     "shell.execute_reply": "2024-11-11T17:23:05.554235Z"
    },
    "papermill": {
     "duration": 0.274094,
     "end_time": "2024-11-11T17:23:05.557065",
     "exception": false,
     "start_time": "2024-11-11T17:23:05.282971",
     "status": "completed"
    },
    "tags": []
   },
   "outputs": [],
   "source": [
    "import torch\n",
    "import torch.nn as nn\n",
    "import torch.nn.functional as F\n",
    "\n",
    "class ResidualBlock(nn.Module):\n",
    "    def __init__(self, in_channels, out_channels, stride=1, downsample=None):\n",
    "        super(ResidualBlock, self).__init__()\n",
    "        self.conv1 = nn.Conv2d(in_channels, out_channels, kernel_size=3, stride=stride, padding=1, bias=False)\n",
    "        self.bn1 = nn.BatchNorm2d(out_channels)\n",
    "        self.conv2 = nn.Conv2d(out_channels, out_channels, kernel_size=3, stride=1, padding=1, bias=False)\n",
    "        self.bn2 = nn.BatchNorm2d(out_channels)\n",
    "        self.downsample = downsample  # Used for adjusting the input shape to match the output when necessary\n",
    "\n",
    "    def forward(self, x):\n",
    "        identity = x  # Save the input for the shortcut path\n",
    "        if self.downsample is not None:\n",
    "            identity = self.downsample(x)\n",
    "\n",
    "        out = F.relu(self.bn1(self.conv1(x)))\n",
    "        out = self.bn2(self.conv2(out))\n",
    "        \n",
    "        # Add the shortcut (identity) to the output of the convolutions\n",
    "        out += identity\n",
    "        out = F.relu(out)\n",
    "        return out\n"
   ]
  },
  {
   "cell_type": "code",
   "execution_count": 6,
   "id": "93fe2840",
   "metadata": {
    "execution": {
     "iopub.execute_input": "2024-11-11T17:23:06.123176Z",
     "iopub.status.busy": "2024-11-11T17:23:06.122179Z",
     "iopub.status.idle": "2024-11-11T17:23:06.136613Z",
     "shell.execute_reply": "2024-11-11T17:23:06.135574Z"
    },
    "papermill": {
     "duration": 0.285107,
     "end_time": "2024-11-11T17:23:06.138829",
     "exception": false,
     "start_time": "2024-11-11T17:23:05.853722",
     "status": "completed"
    },
    "tags": []
   },
   "outputs": [],
   "source": [
    "class ResNet18(nn.Module):\n",
    "    def __init__(self, num_classes=10):\n",
    "        super(ResNet18, self).__init__()\n",
    "        \n",
    "        # Initial convolution and max pooling layers\n",
    "        self.conv1 = nn.Conv2d(3, 64, kernel_size=7, stride=2, padding=3, bias=False)\n",
    "        self.bn1 = nn.BatchNorm2d(64)\n",
    "        self.pool = nn.MaxPool2d(kernel_size=3, stride=2, padding=1)\n",
    "        \n",
    "        # Residual blocks with 2, 2, 2, 2 layers\n",
    "        self.layer1 = self._make_layer(64, 64, 2, stride=1)\n",
    "        self.layer2 = self._make_layer(64, 128, 2, stride=2)\n",
    "        self.layer3 = self._make_layer(128, 256, 2, stride=2)\n",
    "        self.layer4 = self._make_layer(256, 512, 2, stride=2)\n",
    "        \n",
    "        # Fully connected layer for classification\n",
    "        self.fc = nn.Linear(512, num_classes)\n",
    "    \n",
    "    def _make_layer(self, in_channels, out_channels, blocks, stride):\n",
    "        downsample = None\n",
    "        if stride != 1 or in_channels != out_channels:\n",
    "            downsample = nn.Sequential(\n",
    "                nn.Conv2d(in_channels, out_channels, kernel_size=1, stride=stride, bias=False),\n",
    "                nn.BatchNorm2d(out_channels),\n",
    "            )\n",
    "\n",
    "        layers = []\n",
    "        layers.append(ResidualBlock(in_channels, out_channels, stride, downsample))\n",
    "        for _ in range(1, blocks):\n",
    "            layers.append(ResidualBlock(out_channels, out_channels))\n",
    "\n",
    "        return nn.Sequential(*layers)\n",
    "\n",
    "    def forward(self, x):\n",
    "        # Initial convolution and max pooling\n",
    "        x = F.relu(self.bn1(self.conv1(x)))\n",
    "        x = self.pool(x)\n",
    "        \n",
    "        # Forward pass through each layer of residual blocks\n",
    "        x = self.layer1(x)\n",
    "        x = self.layer2(x)\n",
    "        x = self.layer3(x)\n",
    "        x = self.layer4(x)\n",
    "        \n",
    "        # Global average pooling\n",
    "        x = F.adaptive_avg_pool2d(x, (1, 1))\n",
    "        x = torch.flatten(x, 1)\n",
    "        \n",
    "        # Fully connected layer\n",
    "        x = self.fc(x)\n",
    "        \n",
    "        return x\n"
   ]
  },
  {
   "cell_type": "code",
   "execution_count": 7,
   "id": "bb56992c",
   "metadata": {
    "execution": {
     "iopub.execute_input": "2024-11-11T17:23:06.676981Z",
     "iopub.status.busy": "2024-11-11T17:23:06.676051Z",
     "iopub.status.idle": "2024-11-11T18:07:21.611587Z",
     "shell.execute_reply": "2024-11-11T18:07:21.610116Z"
    },
    "papermill": {
     "duration": 2655.209573,
     "end_time": "2024-11-11T18:07:21.614869",
     "exception": false,
     "start_time": "2024-11-11T17:23:06.405296",
     "status": "completed"
    },
    "tags": []
   },
   "outputs": [
    {
     "name": "stderr",
     "output_type": "stream",
     "text": [
      "Epoch [1/30] Training: 100%|██████████| 98/98 [01:28<00:00,  1.10it/s]\n"
     ]
    },
    {
     "name": "stdout",
     "output_type": "stream",
     "text": [
      "Epoch [1/30], Training Loss: 1.6663\n",
      "Epoch [1/30], Validation Loss: 1.2926\n"
     ]
    },
    {
     "name": "stderr",
     "output_type": "stream",
     "text": [
      "Epoch [2/30] Training: 100%|██████████| 98/98 [01:30<00:00,  1.08it/s]\n"
     ]
    },
    {
     "name": "stdout",
     "output_type": "stream",
     "text": [
      "Epoch [2/30], Training Loss: 1.2801\n",
      "Epoch [2/30], Validation Loss: 1.1064\n"
     ]
    },
    {
     "name": "stderr",
     "output_type": "stream",
     "text": [
      "Epoch [3/30] Training: 100%|██████████| 98/98 [01:30<00:00,  1.08it/s]\n"
     ]
    },
    {
     "name": "stdout",
     "output_type": "stream",
     "text": [
      "Epoch [3/30], Training Loss: 1.1028\n",
      "Epoch [3/30], Validation Loss: 0.9658\n"
     ]
    },
    {
     "name": "stderr",
     "output_type": "stream",
     "text": [
      "Epoch [4/30] Training: 100%|██████████| 98/98 [01:27<00:00,  1.12it/s]\n"
     ]
    },
    {
     "name": "stdout",
     "output_type": "stream",
     "text": [
      "Epoch [4/30], Training Loss: 0.9852\n",
      "Epoch [4/30], Validation Loss: 0.9928\n"
     ]
    },
    {
     "name": "stderr",
     "output_type": "stream",
     "text": [
      "Epoch [5/30] Training: 100%|██████████| 98/98 [01:28<00:00,  1.11it/s]\n"
     ]
    },
    {
     "name": "stdout",
     "output_type": "stream",
     "text": [
      "Epoch [5/30], Training Loss: 0.9169\n",
      "Epoch [5/30], Validation Loss: 0.9007\n"
     ]
    },
    {
     "name": "stderr",
     "output_type": "stream",
     "text": [
      "Epoch [6/30] Training: 100%|██████████| 98/98 [01:25<00:00,  1.15it/s]\n"
     ]
    },
    {
     "name": "stdout",
     "output_type": "stream",
     "text": [
      "Epoch [6/30], Training Loss: 0.8526\n",
      "Epoch [6/30], Validation Loss: 0.8129\n"
     ]
    },
    {
     "name": "stderr",
     "output_type": "stream",
     "text": [
      "Epoch [7/30] Training: 100%|██████████| 98/98 [01:23<00:00,  1.18it/s]\n"
     ]
    },
    {
     "name": "stdout",
     "output_type": "stream",
     "text": [
      "Epoch [7/30], Training Loss: 0.7968\n",
      "Epoch [7/30], Validation Loss: 0.7752\n"
     ]
    },
    {
     "name": "stderr",
     "output_type": "stream",
     "text": [
      "Epoch [8/30] Training: 100%|██████████| 98/98 [01:22<00:00,  1.19it/s]\n"
     ]
    },
    {
     "name": "stdout",
     "output_type": "stream",
     "text": [
      "Epoch [8/30], Training Loss: 0.7602\n",
      "Epoch [8/30], Validation Loss: 0.7409\n"
     ]
    },
    {
     "name": "stderr",
     "output_type": "stream",
     "text": [
      "Epoch [9/30] Training: 100%|██████████| 98/98 [01:22<00:00,  1.19it/s]\n"
     ]
    },
    {
     "name": "stdout",
     "output_type": "stream",
     "text": [
      "Epoch [9/30], Training Loss: 0.7240\n",
      "Epoch [9/30], Validation Loss: 0.7101\n"
     ]
    },
    {
     "name": "stderr",
     "output_type": "stream",
     "text": [
      "Epoch [10/30] Training: 100%|██████████| 98/98 [01:23<00:00,  1.18it/s]\n"
     ]
    },
    {
     "name": "stdout",
     "output_type": "stream",
     "text": [
      "Epoch [10/30], Training Loss: 0.6960\n",
      "Epoch [10/30], Validation Loss: 0.7139\n"
     ]
    },
    {
     "name": "stderr",
     "output_type": "stream",
     "text": [
      "Epoch [11/30] Training: 100%|██████████| 98/98 [01:24<00:00,  1.16it/s]\n"
     ]
    },
    {
     "name": "stdout",
     "output_type": "stream",
     "text": [
      "Epoch [11/30], Training Loss: 0.6653\n",
      "Epoch [11/30], Validation Loss: 0.7078\n"
     ]
    },
    {
     "name": "stderr",
     "output_type": "stream",
     "text": [
      "Epoch [12/30] Training: 100%|██████████| 98/98 [01:23<00:00,  1.18it/s]\n"
     ]
    },
    {
     "name": "stdout",
     "output_type": "stream",
     "text": [
      "Epoch [12/30], Training Loss: 0.6430\n",
      "Epoch [12/30], Validation Loss: 0.7657\n"
     ]
    },
    {
     "name": "stderr",
     "output_type": "stream",
     "text": [
      "Epoch [13/30] Training: 100%|██████████| 98/98 [01:21<00:00,  1.20it/s]\n"
     ]
    },
    {
     "name": "stdout",
     "output_type": "stream",
     "text": [
      "Epoch [13/30], Training Loss: 0.6184\n",
      "Epoch [13/30], Validation Loss: 0.7314\n"
     ]
    },
    {
     "name": "stderr",
     "output_type": "stream",
     "text": [
      "Epoch [14/30] Training: 100%|██████████| 98/98 [01:22<00:00,  1.19it/s]\n"
     ]
    },
    {
     "name": "stdout",
     "output_type": "stream",
     "text": [
      "Epoch [14/30], Training Loss: 0.5955\n",
      "Epoch [14/30], Validation Loss: 0.6866\n"
     ]
    },
    {
     "name": "stderr",
     "output_type": "stream",
     "text": [
      "Epoch [15/30] Training: 100%|██████████| 98/98 [01:22<00:00,  1.18it/s]\n"
     ]
    },
    {
     "name": "stdout",
     "output_type": "stream",
     "text": [
      "Epoch [15/30], Training Loss: 0.5794\n",
      "Epoch [15/30], Validation Loss: 0.6383\n"
     ]
    },
    {
     "name": "stderr",
     "output_type": "stream",
     "text": [
      "Epoch [16/30] Training: 100%|██████████| 98/98 [01:23<00:00,  1.17it/s]\n"
     ]
    },
    {
     "name": "stdout",
     "output_type": "stream",
     "text": [
      "Epoch [16/30], Training Loss: 0.5645\n",
      "Epoch [16/30], Validation Loss: 0.6664\n"
     ]
    },
    {
     "name": "stderr",
     "output_type": "stream",
     "text": [
      "Epoch [17/30] Training: 100%|██████████| 98/98 [01:25<00:00,  1.15it/s]\n"
     ]
    },
    {
     "name": "stdout",
     "output_type": "stream",
     "text": [
      "Epoch [17/30], Training Loss: 0.5452\n",
      "Epoch [17/30], Validation Loss: 0.6072\n"
     ]
    },
    {
     "name": "stderr",
     "output_type": "stream",
     "text": [
      "Epoch [18/30] Training: 100%|██████████| 98/98 [01:29<00:00,  1.10it/s]\n"
     ]
    },
    {
     "name": "stdout",
     "output_type": "stream",
     "text": [
      "Epoch [18/30], Training Loss: 0.5295\n",
      "Epoch [18/30], Validation Loss: 0.6286\n"
     ]
    },
    {
     "name": "stderr",
     "output_type": "stream",
     "text": [
      "Epoch [19/30] Training: 100%|██████████| 98/98 [01:29<00:00,  1.09it/s]\n"
     ]
    },
    {
     "name": "stdout",
     "output_type": "stream",
     "text": [
      "Epoch [19/30], Training Loss: 0.5150\n",
      "Epoch [19/30], Validation Loss: 0.5941\n"
     ]
    },
    {
     "name": "stderr",
     "output_type": "stream",
     "text": [
      "Epoch [20/30] Training: 100%|██████████| 98/98 [01:31<00:00,  1.07it/s]\n"
     ]
    },
    {
     "name": "stdout",
     "output_type": "stream",
     "text": [
      "Epoch [20/30], Training Loss: 0.5020\n",
      "Epoch [20/30], Validation Loss: 0.6384\n"
     ]
    },
    {
     "name": "stderr",
     "output_type": "stream",
     "text": [
      "Epoch [21/30] Training: 100%|██████████| 98/98 [01:29<00:00,  1.09it/s]\n"
     ]
    },
    {
     "name": "stdout",
     "output_type": "stream",
     "text": [
      "Epoch [21/30], Training Loss: 0.4874\n",
      "Epoch [21/30], Validation Loss: 0.5952\n"
     ]
    },
    {
     "name": "stderr",
     "output_type": "stream",
     "text": [
      "Epoch [22/30] Training: 100%|██████████| 98/98 [01:31<00:00,  1.08it/s]\n"
     ]
    },
    {
     "name": "stdout",
     "output_type": "stream",
     "text": [
      "Epoch [22/30], Training Loss: 0.4790\n",
      "Epoch [22/30], Validation Loss: 0.5705\n"
     ]
    },
    {
     "name": "stderr",
     "output_type": "stream",
     "text": [
      "Epoch [23/30] Training: 100%|██████████| 98/98 [01:30<00:00,  1.09it/s]\n"
     ]
    },
    {
     "name": "stdout",
     "output_type": "stream",
     "text": [
      "Epoch [23/30], Training Loss: 0.4736\n",
      "Epoch [23/30], Validation Loss: 0.5838\n"
     ]
    },
    {
     "name": "stderr",
     "output_type": "stream",
     "text": [
      "Epoch [24/30] Training: 100%|██████████| 98/98 [01:27<00:00,  1.11it/s]\n"
     ]
    },
    {
     "name": "stdout",
     "output_type": "stream",
     "text": [
      "Epoch [24/30], Training Loss: 0.4558\n",
      "Epoch [24/30], Validation Loss: 0.5576\n"
     ]
    },
    {
     "name": "stderr",
     "output_type": "stream",
     "text": [
      "Epoch [25/30] Training: 100%|██████████| 98/98 [01:27<00:00,  1.12it/s]\n"
     ]
    },
    {
     "name": "stdout",
     "output_type": "stream",
     "text": [
      "Epoch [25/30], Training Loss: 0.4494\n",
      "Epoch [25/30], Validation Loss: 0.5594\n"
     ]
    },
    {
     "name": "stderr",
     "output_type": "stream",
     "text": [
      "Epoch [26/30] Training: 100%|██████████| 98/98 [01:29<00:00,  1.10it/s]\n"
     ]
    },
    {
     "name": "stdout",
     "output_type": "stream",
     "text": [
      "Epoch [26/30], Training Loss: 0.4377\n",
      "Epoch [26/30], Validation Loss: 0.5865\n"
     ]
    },
    {
     "name": "stderr",
     "output_type": "stream",
     "text": [
      "Epoch [27/30] Training: 100%|██████████| 98/98 [01:27<00:00,  1.12it/s]\n"
     ]
    },
    {
     "name": "stdout",
     "output_type": "stream",
     "text": [
      "Epoch [27/30], Training Loss: 0.4286\n",
      "Epoch [27/30], Validation Loss: 0.5684\n"
     ]
    },
    {
     "name": "stderr",
     "output_type": "stream",
     "text": [
      "Epoch [28/30] Training: 100%|██████████| 98/98 [01:29<00:00,  1.10it/s]\n"
     ]
    },
    {
     "name": "stdout",
     "output_type": "stream",
     "text": [
      "Epoch [28/30], Training Loss: 0.4143\n",
      "Epoch [28/30], Validation Loss: 0.5604\n"
     ]
    },
    {
     "name": "stderr",
     "output_type": "stream",
     "text": [
      "Epoch [29/30] Training: 100%|██████████| 98/98 [01:29<00:00,  1.09it/s]\n"
     ]
    },
    {
     "name": "stdout",
     "output_type": "stream",
     "text": [
      "Epoch [29/30], Training Loss: 0.4074\n",
      "Epoch [29/30], Validation Loss: 0.5539\n"
     ]
    },
    {
     "name": "stderr",
     "output_type": "stream",
     "text": [
      "Epoch [30/30] Training: 100%|██████████| 98/98 [01:29<00:00,  1.10it/s]\n"
     ]
    },
    {
     "name": "stdout",
     "output_type": "stream",
     "text": [
      "Epoch [30/30], Training Loss: 0.4027\n",
      "Epoch [30/30], Validation Loss: 0.5734\n"
     ]
    },
    {
     "name": "stderr",
     "output_type": "stream",
     "text": [
      "Evaluating: 100%|██████████| 20/20 [00:01<00:00, 12.48it/s]"
     ]
    },
    {
     "name": "stdout",
     "output_type": "stream",
     "text": [
      "Test Accuracy: 81.39%\n",
      "Precision: 0.8180, Recall: 0.8139, F1 Score: 0.8122\n"
     ]
    },
    {
     "name": "stderr",
     "output_type": "stream",
     "text": [
      "\n"
     ]
    }
   ],
   "source": [
    "import matplotlib.pyplot as plt\n",
    "from tqdm import tqdm\n",
    "import torch\n",
    "import torch.nn as nn\n",
    "import torch.optim as optim\n",
    "from torchvision import datasets, transforms\n",
    "from torch.utils.data import DataLoader\n",
    "from sklearn.metrics import accuracy_score, precision_score, recall_score, f1_score\n",
    "\n",
    "# Device configuration\n",
    "device = torch.device('cuda' if torch.cuda.is_available() else 'cpu')\n",
    "\n",
    "# Hyperparameters\n",
    "num_epochs = 30\n",
    "learning_rate = 0.001\n",
    "\n",
    "# Instantiate the model, loss function, and optimizer\n",
    "model = ResNet18(num_classes=10).to(device)\n",
    "criterion = nn.CrossEntropyLoss()\n",
    "optimizer = optim.Adam(model.parameters(), lr=learning_rate)\n",
    "\n",
    "# Training loop\n",
    "train_losses = []\n",
    "val_losses = []\n",
    "for epoch in range(num_epochs):\n",
    "    model.train()\n",
    "    running_loss = 0\n",
    "    for images, labels in tqdm(train_loader, desc=f\"Epoch [{epoch+1}/{num_epochs}] Training\"):\n",
    "        images, labels = images.to(device), labels.to(device).long()\n",
    "\n",
    "        # Forward pass\n",
    "        outputs = model(images)\n",
    "        loss = criterion(outputs, labels)\n",
    "\n",
    "        # Backward pass and optimization\n",
    "        optimizer.zero_grad()\n",
    "        loss.backward()\n",
    "        optimizer.step()\n",
    "\n",
    "        running_loss += loss.item()\n",
    "\n",
    "    # Calculate average training loss for this epoch\n",
    "    avg_train_loss = running_loss / len(train_loader)\n",
    "    train_losses.append(avg_train_loss)\n",
    "    print(f\"Epoch [{epoch+1}/{num_epochs}], Training Loss: {avg_train_loss:.4f}\")\n",
    "\n",
    "    # Calculate validation loss\n",
    "    model.eval()\n",
    "    val_loss = 0\n",
    "    with torch.no_grad():\n",
    "        for images, labels in test_loader:\n",
    "            images, labels = images.to(device), labels.to(device)\n",
    "            outputs = model(images)\n",
    "            loss = criterion(outputs, labels)\n",
    "            val_loss += loss.item()\n",
    "    \n",
    "    avg_val_loss = val_loss / len(test_loader)\n",
    "    val_losses.append(avg_val_loss)\n",
    "    print(f\"Epoch [{epoch+1}/{num_epochs}], Validation Loss: {avg_val_loss:.4f}\")\n",
    "\n",
    "\n",
    "\n",
    "# Evaluation on the test set for accuracy, precision, recall, and F1 score\n",
    "model.eval()\n",
    "all_preds = []\n",
    "all_labels = []\n",
    "with torch.no_grad():\n",
    "    for images, labels in tqdm(test_loader, desc=\"Evaluating\"):\n",
    "        images, labels = images.to(device), labels.to(device)\n",
    "        outputs = model(images)\n",
    "        _, predicted = torch.max(outputs, 1)\n",
    "        all_preds.extend(predicted.cpu().numpy())\n",
    "        all_labels.extend(labels.cpu().numpy())\n",
    "\n",
    "# Calculate accuracy, precision, recall, and F1 score\n",
    "accuracy = accuracy_score(all_labels, all_preds) * 100\n",
    "precision = precision_score(all_labels, all_preds, average='macro')\n",
    "recall = recall_score(all_labels, all_preds, average='macro')\n",
    "f1 = f1_score(all_labels, all_preds, average='macro')\n",
    "\n",
    "print(f'Test Accuracy: {accuracy:.2f}%')\n",
    "print(f'Precision: {precision:.4f}, Recall: {recall:.4f}, F1 Score: {f1:.4f}')\n"
   ]
  },
  {
   "cell_type": "code",
   "execution_count": 8,
   "id": "fefd6575",
   "metadata": {
    "execution": {
     "iopub.execute_input": "2024-11-11T18:07:22.736708Z",
     "iopub.status.busy": "2024-11-11T18:07:22.736245Z",
     "iopub.status.idle": "2024-11-11T18:07:22.824199Z",
     "shell.execute_reply": "2024-11-11T18:07:22.823150Z"
    },
    "papermill": {
     "duration": 0.634612,
     "end_time": "2024-11-11T18:07:22.826692",
     "exception": false,
     "start_time": "2024-11-11T18:07:22.192080",
     "status": "completed"
    },
    "tags": []
   },
   "outputs": [
    {
     "name": "stdout",
     "output_type": "stream",
     "text": [
      "Entire model saved as 'resnet18_cifar10_full_model.pth'\n"
     ]
    }
   ],
   "source": [
    "# Save the entire model after training\n",
    "torch.save(model, 'resnet18_SCRATCH_full_model.pth')\n",
    "print(\"Entire model saved as 'resnet18_cifar10_full_model.pth'\")\n"
   ]
  },
  {
   "cell_type": "code",
   "execution_count": 9,
   "id": "0331cf2d",
   "metadata": {
    "execution": {
     "iopub.execute_input": "2024-11-11T18:07:23.939817Z",
     "iopub.status.busy": "2024-11-11T18:07:23.939369Z",
     "iopub.status.idle": "2024-11-11T18:07:24.282691Z",
     "shell.execute_reply": "2024-11-11T18:07:24.281667Z"
    },
    "papermill": {
     "duration": 0.877534,
     "end_time": "2024-11-11T18:07:24.285128",
     "exception": false,
     "start_time": "2024-11-11T18:07:23.407594",
     "status": "completed"
    },
    "tags": []
   },
   "outputs": [
    {
     "data": {
      "image/png": "[encoded data removed]",
      "text/plain": [
       "<Figure size 1000x600 with 1 Axes>"
      ]
     },
     "metadata": {},
     "output_type": "display_data"
    }
   ],
   "source": [
    "# Plot Training and Validation Loss\n",
    "plt.figure(figsize=(10, 6))\n",
    "plt.plot(train_losses, label=\"Training Loss\")\n",
    "plt.plot(val_losses, label=\"Validation Loss\")\n",
    "plt.xlabel(\"Epochs\")\n",
    "plt.ylabel(\"Loss\")\n",
    "plt.title(\"Training and Validation Loss over Epochs\")\n",
    "plt.legend()\n",
    "plt.show()"
   ]
  },
  {
   "cell_type": "code",
   "execution_count": null,
   "id": "ddb7c5d5",
   "metadata": {
    "papermill": {
     "duration": 0.533351,
     "end_time": "2024-11-11T18:07:25.348147",
     "exception": false,
     "start_time": "2024-11-11T18:07:24.814796",
     "status": "completed"
    },
    "tags": []
   },
   "outputs": [],
   "source": []
  }
 ],
 "metadata": {
  "kaggle": {
   "accelerator": "gpu",
   "dataSources": [
    {
     "datasetId": 6060767,
     "sourceId": 9872714,
     "sourceType": "datasetVersion"
    }
   ],
   "dockerImageVersionId": 30787,
   "isGpuEnabled": true,
   "isInternetEnabled": true,
   "language": "python",
   "sourceType": "notebook"
  },
  "kernelspec": {
   "display_name": "Python 3 (ipykernel)",
   "language": "python",
   "name": "python3"
  },
  "language_info": {
   "codemirror_mode": {
    "name": "ipython",
    "version": 3
   },
   "file_extension": ".py",
   "mimetype": "text/x-python",
   "name": "python",
   "nbconvert_exporter": "python",
   "pygments_lexer": "ipython3",
   "version": "3.11.7"
  },
  "papermill": {
   "default_parameters": {},
   "duration": 5162.176387,
   "end_time": "2024-11-11T18:07:27.409143",
   "environment_variables": {},
   "exception": null,
   "input_path": "__notebook__.ipynb",
   "output_path": "__notebook__.ipynb",
   "parameters": {},
   "start_time": "2024-11-11T16:41:25.232756",
   "version": "2.6.0"
  }
 },
 "nbformat": 4,
 "nbformat_minor": 5
}
