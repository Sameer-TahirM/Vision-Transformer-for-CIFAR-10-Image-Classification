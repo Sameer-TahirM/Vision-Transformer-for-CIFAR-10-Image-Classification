{
 "cells": [
  {
   "cell_type": "markdown",
   "id": "832b9e1c",
   "metadata": {},
   "source": [
    "## Below cells are commented, becaue preprocessing is not need. "
   ]
  },
  {
   "cell_type": "code",
   "execution_count": 1,
   "id": "2c698b05",
   "metadata": {
    "execution": {
     "iopub.execute_input": "2024-11-11T17:34:32.984249Z",
     "iopub.status.busy": "2024-11-11T17:34:32.983552Z",
     "iopub.status.idle": "2024-11-11T17:34:32.990997Z",
     "shell.execute_reply": "2024-11-11T17:34:32.990236Z"
    },
    "papermill": {
     "duration": 0.016631,
     "end_time": "2024-11-11T17:34:32.992978",
     "exception": false,
     "start_time": "2024-11-11T17:34:32.976347",
     "status": "completed"
    },
    "tags": []
   },
   "outputs": [],
   "source": [
    "# import pickle\n",
    "\n",
    "\n",
    "\n",
    "# import numpy as np\n",
    "\n",
    "\n",
    "\n",
    "# import os\n",
    "\n",
    "\n",
    "\n",
    "\n",
    "\n",
    "\n",
    "\n",
    "# def load_cifar10_batch(file):\n",
    "\n",
    "\n",
    "\n",
    "#     with open(file, 'rb') as f:\n",
    "\n",
    "\n",
    "\n",
    "#         data_dict = pickle.load(f, encoding='bytes')\n",
    "\n",
    "\n",
    "\n",
    "#         images = data_dict[b'data']\n",
    "\n",
    "\n",
    "\n",
    "#         labels = data_dict[b'labels']\n",
    "\n",
    "\n",
    "\n",
    "#         images = images.reshape(len(images), 3, 32, 32).transpose(0, 2, 3, 1).astype(\"float\")\n",
    "\n",
    "\n",
    "\n",
    "#         labels = np.array(labels)\n",
    "\n",
    "\n",
    "\n",
    "#         return images, labels\n",
    "\n",
    "\n",
    "\n",
    "\n",
    "\n",
    "\n",
    "\n",
    "# def load_cifar10_data(data_dir):\n",
    "\n",
    "\n",
    "\n",
    "#     # Load all batches\n",
    "\n",
    "\n",
    "\n",
    "#     images, labels = [], []\n",
    "\n",
    "\n",
    "\n",
    "#     for batch_id in range(1, 6):\n",
    "\n",
    "\n",
    "\n",
    "#         file = os.path.join(data_dir, f'data_batch_{batch_id}')\n",
    "\n",
    "\n",
    "\n",
    "#         batch_images, batch_labels = load_cifar10_batch(file)\n",
    "\n",
    "\n",
    "\n",
    "#         images.append(batch_images)\n",
    "\n",
    "\n",
    "\n",
    "#         labels.append(batch_labels)\n",
    "\n",
    "\n",
    "\n",
    "    \n",
    "\n",
    "\n",
    "\n",
    "#     # Concatenate all batches into training set\n",
    "\n",
    "\n",
    "\n",
    "#     train_images = np.concatenate(images)\n",
    "\n",
    "\n",
    "\n",
    "#     train_labels = np.concatenate(labels)\n",
    "\n",
    "\n",
    "\n",
    "    \n",
    "\n",
    "\n",
    "\n",
    "#     # Load test batch\n",
    "\n",
    "\n",
    "\n",
    "#     test_images, test_labels = load_cifar10_batch(os.path.join(data_dir, 'test_batch'))\n",
    "\n",
    "\n",
    "\n",
    "    \n",
    "\n",
    "\n",
    "\n",
    "#     return train_images, train_labels, test_images, test_labels\n",
    "\n",
    "\n",
    "\n",
    "\n",
    "\n",
    "\n",
    "\n",
    "# data_dir = r\"C:\\Users\\samee\\Desktop\\University\\FAST\\Semester 9\\GenAI\\Assignments\\Ass3\\cifar-10-batches-py\"\n",
    "\n",
    "\n",
    "\n",
    "# train_images, train_labels, test_images, test_labels = load_cifar10_data(data_dir)\n",
    "\n",
    "\n",
    "\n",
    "\n",
    "\n",
    "\n",
    "\n",
    "# print(f\"Training images shape: {train_images.shape}\")\n",
    "\n",
    "\n",
    "\n",
    "# print(f\"Training labels shape: {train_labels.shape}\")\n",
    "\n",
    "\n",
    "\n",
    "# print(f\"Testing images shape: {test_images.shape}\")\n",
    "\n",
    "\n",
    "\n",
    "# print(f\"Testing labels shape: {test_labels.shape}\")\n"
   ]
  },
  {
   "cell_type": "code",
   "execution_count": 2,
   "id": "8327ab3c",
   "metadata": {
    "execution": {
     "iopub.execute_input": "2024-11-11T17:34:33.003932Z",
     "iopub.status.busy": "2024-11-11T17:34:33.003618Z",
     "iopub.status.idle": "2024-11-11T17:34:33.008887Z",
     "shell.execute_reply": "2024-11-11T17:34:33.008039Z"
    },
    "papermill": {
     "duration": 0.012844,
     "end_time": "2024-11-11T17:34:33.010841",
     "exception": false,
     "start_time": "2024-11-11T17:34:32.997997",
     "status": "completed"
    },
    "tags": []
   },
   "outputs": [],
   "source": [
    "# import matplotlib.pyplot as plt\n",
    "\n",
    "\n",
    "\n",
    "# import random\n",
    "\n",
    "\n",
    "\n",
    "\n",
    "\n",
    "\n",
    "\n",
    "# # CIFAR-10 class labels\n",
    "\n",
    "\n",
    "\n",
    "# cifar10_labels = ['airplane', 'automobile', 'bird', 'cat', 'deer', 'dog', 'frog', 'horse', 'ship', 'truck']\n",
    "\n",
    "\n",
    "\n",
    "\n",
    "\n",
    "\n",
    "\n",
    "# # Function to display images with labels using Matplotlib\n",
    "\n",
    "\n",
    "\n",
    "# def display_images_with_matplotlib(images, labels, num_images=5):\n",
    "\n",
    "\n",
    "\n",
    "#     plt.figure(figsize=(10, 5))\n",
    "\n",
    "\n",
    "\n",
    "#     for i in range(num_images):\n",
    "\n",
    "\n",
    "\n",
    "#         index = random.randint(0, len(images) - 1)\n",
    "\n",
    "\n",
    "\n",
    "#         image = images[index].astype(np.uint8)\n",
    "\n",
    "\n",
    "\n",
    "#         label = cifar10_labels[labels[index]]\n",
    "\n",
    "\n",
    "\n",
    "        \n",
    "\n",
    "\n",
    "\n",
    "#         plt.subplot(1, num_images, i + 1)\n",
    "\n",
    "\n",
    "\n",
    "#         plt.imshow(image)\n",
    "\n",
    "\n",
    "\n",
    "#         plt.title(label)\n",
    "\n",
    "\n",
    "\n",
    "#         plt.axis('off')\n",
    "\n",
    "\n",
    "\n",
    "    \n",
    "\n",
    "\n",
    "\n",
    "#     plt.show()\n",
    "\n",
    "\n",
    "\n",
    "\n",
    "\n",
    "\n",
    "\n",
    "# # Display a few images with labels\n",
    "\n",
    "\n",
    "\n",
    "# display_images_with_matplotlib(train_images, train_labels, num_images=5)\n"
   ]
  },
  {
   "cell_type": "markdown",
   "id": "4780a0fe",
   "metadata": {
    "papermill": {
     "duration": 0.004447,
     "end_time": "2024-11-11T17:34:33.019942",
     "exception": false,
     "start_time": "2024-11-11T17:34:33.015495",
     "status": "completed"
    },
    "tags": []
   },
   "source": [
    "### Loading and transforming images"
   ]
  },
  {
   "cell_type": "code",
   "execution_count": 3,
   "id": "98a3b425",
   "metadata": {
    "execution": {
     "iopub.execute_input": "2024-11-11T17:34:33.031090Z",
     "iopub.status.busy": "2024-11-11T17:34:33.030319Z",
     "iopub.status.idle": "2024-11-11T17:34:39.986524Z",
     "shell.execute_reply": "2024-11-11T17:34:39.985651Z"
    },
    "papermill": {
     "duration": 6.964178,
     "end_time": "2024-11-11T17:34:39.988833",
     "exception": false,
     "start_time": "2024-11-11T17:34:33.024655",
     "status": "completed"
    },
    "tags": []
   },
   "outputs": [],
   "source": [
    "import pickle\n",
    "\n",
    "\n",
    "\n",
    "import numpy as np\n",
    "\n",
    "\n",
    "\n",
    "import torch\n",
    "\n",
    "\n",
    "\n",
    "from torch.utils.data import Dataset, DataLoader\n",
    "\n",
    "\n",
    "\n",
    "from torchvision import transforms\n",
    "\n",
    "\n",
    "\n",
    "from tqdm import tqdm\n",
    "\n",
    "\n",
    "\n",
    "\n",
    "\n",
    "\n",
    "\n",
    "class CIFAR10InMemoryDataset(Dataset):\n",
    "\n",
    "\n",
    "\n",
    "    def __init__(self, data, labels, transform=None):\n",
    "\n",
    "\n",
    "\n",
    "        self.data = data\n",
    "\n",
    "\n",
    "\n",
    "        self.labels = labels\n",
    "\n",
    "\n",
    "\n",
    "        self.transform = transform\n",
    "\n",
    "\n",
    "\n",
    "    \n",
    "\n",
    "\n",
    "\n",
    "    def __len__(self):\n",
    "\n",
    "\n",
    "\n",
    "        return len(self.data)\n",
    "\n",
    "\n",
    "\n",
    "    \n",
    "\n",
    "\n",
    "\n",
    "    def __getitem__(self, idx):\n",
    "\n",
    "\n",
    "\n",
    "        image = self.data[idx]\n",
    "\n",
    "\n",
    "\n",
    "        label = self.labels[idx]\n",
    "\n",
    "\n",
    "\n",
    "        if self.transform:\n",
    "\n",
    "\n",
    "\n",
    "            image = self.transform(image)\n",
    "\n",
    "\n",
    "\n",
    "        return image, label\n",
    "\n",
    "\n",
    "\n",
    "\n",
    "\n",
    "\n",
    "\n",
    "# Preload data into memory\n",
    "\n",
    "\n",
    "\n",
    "def load_cifar10_in_memory(data_dir):\n",
    "\n",
    "\n",
    "\n",
    "    images, labels = [], []\n",
    "\n",
    "\n",
    "\n",
    "    for i in range(1, 6):\n",
    "\n",
    "\n",
    "\n",
    "        with open(f\"{data_dir}/data_batch_{i}\", 'rb') as f:\n",
    "\n",
    "\n",
    "\n",
    "            batch = pickle.load(f, encoding='bytes')\n",
    "\n",
    "\n",
    "\n",
    "            images.append(batch[b'data'])\n",
    "\n",
    "\n",
    "\n",
    "            labels.extend(batch[b'labels'])\n",
    "\n",
    "\n",
    "\n",
    "    images = np.vstack(images).reshape(-1, 3, 32, 32).transpose(0, 2, 3, 1)  # Reshape and reorder dimensions\n",
    "\n",
    "\n",
    "\n",
    "    labels = np.array(labels)\n",
    "\n",
    "\n",
    "\n",
    "\n",
    "\n",
    "\n",
    "\n",
    "    # Load test data\n",
    "\n",
    "\n",
    "\n",
    "    with open(f\"{data_dir}/test_batch\", 'rb') as f:\n",
    "\n",
    "\n",
    "\n",
    "        batch = pickle.load(f, encoding='bytes')\n",
    "\n",
    "\n",
    "\n",
    "        test_images = batch[b'data'].reshape(-1, 3, 32, 32).transpose(0, 2, 3, 1)\n",
    "\n",
    "\n",
    "\n",
    "        test_labels = np.array(batch[b'labels'])\n",
    "\n",
    "\n",
    "\n",
    "        \n",
    "\n",
    "\n",
    "\n",
    "    return images, labels, test_images, test_labels\n",
    "\n",
    "\n",
    "\n",
    "\n",
    "\n",
    "\n",
    "\n",
    "# Load CIFAR-10 data into memory\n",
    "\n",
    "\n",
    "\n",
    "data_dir = r\"/kaggle/input/cifar-dataset/cifar-10-batches-py\"\n",
    "\n",
    "# data_dir = r\"C:\\Users\\samee\\Desktop\\University\\FAST\\Semester 9\\GenAI\\Assignments\\Ass3\\cifar-10-batches-py\"\n",
    "\n",
    "\n",
    "\n",
    "train_images, train_labels, test_images, test_labels = load_cifar10_in_memory(data_dir)\n",
    "\n",
    "\n",
    "\n",
    "\n",
    "\n",
    "\n",
    "\n",
    "# Define simple transforms\n",
    "\n",
    "\n",
    "\n",
    "train_transforms = transforms.Compose([\n",
    "\n",
    "\n",
    "\n",
    "    transforms.ToTensor(),\n",
    "\n",
    "\n",
    "\n",
    "    transforms.RandomCrop(32, padding=4),\n",
    "\n",
    "\n",
    "\n",
    "    transforms.ColorJitter(brightness=0.2, contrast=0.2, saturation=0.2, hue=0.1),\n",
    "\n",
    "\n",
    "\n",
    "    transforms.RandomHorizontalFlip(),\n",
    "\n",
    "\n",
    "\n",
    "    transforms.Normalize((0.4914, 0.4822, 0.4465), (0.2023, 0.1994, 0.2010))\n",
    "\n",
    "\n",
    "\n",
    "])\n",
    "\n",
    "\n",
    "\n",
    "\n",
    "\n",
    "\n",
    "\n",
    "test_transforms = transforms.Compose([\n",
    "\n",
    "\n",
    "\n",
    "    transforms.ToTensor(),\n",
    "\n",
    "\n",
    "\n",
    "    transforms.Normalize((0.4914, 0.4822, 0.4465), (0.2023, 0.1994, 0.2010))\n",
    "\n",
    "\n",
    "\n",
    "])\n",
    "\n",
    "\n",
    "\n",
    "\n",
    "\n",
    "\n",
    "\n",
    "# Create in-memory datasets\n",
    "\n",
    "\n",
    "\n",
    "train_dataset = CIFAR10InMemoryDataset(train_images, train_labels, transform=train_transforms)\n",
    "\n",
    "\n",
    "\n",
    "test_dataset = CIFAR10InMemoryDataset(test_images, test_labels, transform=test_transforms)\n",
    "\n",
    "\n",
    "\n",
    "\n",
    "\n",
    "\n",
    "\n",
    "# Create DataLoaders with fewer workers\n",
    "\n",
    "\n",
    "\n",
    "train_loader = DataLoader(train_dataset, batch_size=256, shuffle=True, num_workers=0)\n",
    "\n",
    "\n",
    "\n",
    "test_loader = DataLoader(test_dataset, batch_size=256, shuffle=False, num_workers=0)\n"
   ]
  },
  {
   "cell_type": "code",
   "execution_count": 4,
   "id": "e3644833",
   "metadata": {
    "execution": {
     "iopub.execute_input": "2024-11-11T17:34:40.004844Z",
     "iopub.status.busy": "2024-11-11T17:34:40.003582Z",
     "iopub.status.idle": "2024-11-11T17:34:41.118079Z",
     "shell.execute_reply": "2024-11-11T17:34:41.117129Z"
    },
    "papermill": {
     "duration": 1.125634,
     "end_time": "2024-11-11T17:34:41.120250",
     "exception": false,
     "start_time": "2024-11-11T17:34:39.994616",
     "status": "completed"
    },
    "tags": []
   },
   "outputs": [
    {
     "name": "stdout",
     "output_type": "stream",
     "text": [
      "Image 1 - Pixel Values:\n",
      " [[[0.42674005 0.43652177 0.48578143]\n",
      "  [0.43873003 0.43914446 0.49332777]\n",
      "  [0.37262374 0.36972684 0.42803004]\n",
      "  ...\n",
      "  [0.90162754 0.9169276  0.9494711 ]\n",
      "  [0.06882209 0.07201007 0.1112794 ]\n",
      "  [0.06882209 0.07201007 0.1112794 ]]\n",
      "\n",
      " [[0.41904563 0.42746937 0.47446996]\n",
      "  [0.42835504 0.42377663 0.47451496]\n",
      "  [0.35482052 0.35041866 0.40530825]\n",
      "  ...\n",
      "  [0.90162754 0.9169276  0.9494711 ]\n",
      "  [0.06882209 0.07201007 0.1112794 ]\n",
      "  [0.06882209 0.07201007 0.1112794 ]]\n",
      "\n",
      " [[0.4148284  0.41585675 0.45842856]\n",
      "  [0.40687108 0.4005919  0.44575745]\n",
      "  [0.36605448 0.3582201  0.41304755]\n",
      "  ...\n",
      "  [0.90162754 0.9169276  0.9494711 ]\n",
      "  [0.06882209 0.07201007 0.1112794 ]\n",
      "  [0.06882209 0.07201007 0.1112794 ]]\n",
      "\n",
      " ...\n",
      "\n",
      " [[0.1350461  0.1672875  0.2171719 ]\n",
      "  [0.1381801  0.15262976 0.23102808]\n",
      "  [0.13807213 0.15348172 0.21308291]\n",
      "  ...\n",
      "  [0.5732266  0.54779124 0.59206724]\n",
      "  [0.06882209 0.07201007 0.1112794 ]\n",
      "  [0.06882209 0.07201007 0.1112794 ]]\n",
      "\n",
      " [[0.16590688 0.20482734 0.26606873]\n",
      "  [0.1621966  0.2012054  0.27303636]\n",
      "  [0.15061346 0.18696162 0.25424367]\n",
      "  ...\n",
      "  [0.5307851  0.4939448  0.5352233 ]\n",
      "  [0.06882209 0.07201007 0.1112794 ]\n",
      "  [0.06882209 0.07201007 0.1112794 ]]\n",
      "\n",
      " [[0.200254   0.23981628 0.31133988]\n",
      "  [0.18161514 0.22934422 0.29614773]\n",
      "  [0.16600236 0.20506647 0.27686667]\n",
      "  ...\n",
      "  [0.45772472 0.40543824 0.4452313 ]\n",
      "  [0.06882209 0.07201007 0.1112794 ]\n",
      "  [0.06882209 0.07201007 0.1112794 ]]]\n"
     ]
    },
    {
     "data": {
      "image/png": "[encoded data removed]",
      "text/plain": [
       "<Figure size 640x480 with 1 Axes>"
      ]
     },
     "metadata": {},
     "output_type": "display_data"
    },
    {
     "name": "stdout",
     "output_type": "stream",
     "text": [
      "Image 2 - Pixel Values:\n",
      " [[[0.07170063 0.07493043 0.11417654]\n",
      "  [0.07170063 0.07493043 0.11417654]\n",
      "  [0.07170063 0.07493043 0.11417654]\n",
      "  ...\n",
      "  [0.07170063 0.07493043 0.11417654]\n",
      "  [0.07170063 0.07493043 0.11417654]\n",
      "  [0.07170063 0.07493043 0.11417654]]\n",
      "\n",
      " [[0.64584523 0.5287392  0.20704773]\n",
      "  [0.5399288  0.4856778  0.29376265]\n",
      "  [0.40835524 0.41203594 0.31056488]\n",
      "  ...\n",
      "  [0.23190433 0.23213193 0.1906285 ]\n",
      "  [0.2678969  0.2597102  0.2065047 ]\n",
      "  [0.3172233  0.2905602  0.2358011 ]]\n",
      "\n",
      " [[0.48487347 0.4132651  0.17730406]\n",
      "  [0.31384745 0.3044156  0.16796464]\n",
      "  [0.2615115  0.26752537 0.17296922]\n",
      "  ...\n",
      "  [0.33658317 0.33475113 0.22815406]\n",
      "  [0.375794   0.36252588 0.25066093]\n",
      "  [0.3794462  0.34536877 0.2509452 ]]\n",
      "\n",
      " ...\n",
      "\n",
      " [[0.17628816 0.17411998 0.18552539]\n",
      "  [0.14192581 0.1478455  0.16955361]\n",
      "  [0.14773649 0.15444079 0.18287942]\n",
      "  ...\n",
      "  [0.5522547  0.52217233 0.47235253]\n",
      "  [0.5653312  0.53307045 0.49568823]\n",
      "  [0.4968171  0.4635599  0.42673102]]\n",
      "\n",
      " [[0.15358812 0.14390233 0.159287  ]\n",
      "  [0.10123849 0.09666029 0.13033938]\n",
      "  [0.12395072 0.12654033 0.15319854]\n",
      "  ...\n",
      "  [0.5229299  0.48970246 0.44962126]\n",
      "  [0.6108467  0.5854669  0.5686302 ]\n",
      "  [0.5293433  0.50102794 0.46964216]]\n",
      "\n",
      " [[0.21247515 0.1974267  0.19142276]\n",
      "  [0.1011878  0.09967756 0.12689686]\n",
      "  [0.08485046 0.08380273 0.11723691]\n",
      "  ...\n",
      "  [0.49370477 0.45286468 0.41681546]\n",
      "  [0.5588079  0.5247836  0.50608027]\n",
      "  [0.5586577  0.53216887 0.5127121 ]]]\n"
     ]
    },
    {
     "data": {
      "image/png": "[encoded data removed]",
      "text/plain": [
       "<Figure size 640x480 with 1 Axes>"
      ]
     },
     "metadata": {},
     "output_type": "display_data"
    },
    {
     "name": "stdout",
     "output_type": "stream",
     "text": [
      "Image 3 - Pixel Values:\n",
      " [[[0.01907378 0.02153826 0.06120938]\n",
      "  [0.01907378 0.02153826 0.06120938]\n",
      "  [0.01907378 0.02153826 0.06120938]\n",
      "  ...\n",
      "  [0.01907378 0.02153826 0.06120938]\n",
      "  [0.01907378 0.02153826 0.06120938]\n",
      "  [0.01907378 0.02153826 0.06120938]]\n",
      "\n",
      " [[0.01907378 0.02153826 0.06120938]\n",
      "  [0.01907378 0.02153826 0.06120938]\n",
      "  [0.01907378 0.02153826 0.06120938]\n",
      "  ...\n",
      "  [0.01907378 0.02153826 0.06120938]\n",
      "  [0.01907378 0.02153826 0.06120938]\n",
      "  [0.01907378 0.02153826 0.06120938]]\n",
      "\n",
      " [[0.01907378 0.02153826 0.06120938]\n",
      "  [0.01907378 0.02153826 0.06120938]\n",
      "  [0.01907378 0.02153826 0.06120938]\n",
      "  ...\n",
      "  [0.01907378 0.02153826 0.06120938]\n",
      "  [0.01907378 0.02153826 0.06120938]\n",
      "  [0.01907378 0.02153826 0.06120938]]\n",
      "\n",
      " ...\n",
      "\n",
      " [[0.01907378 0.02153826 0.06120938]\n",
      "  [0.01907378 0.02153826 0.06120938]\n",
      "  [0.57737035 0.58796394 0.6515724 ]\n",
      "  ...\n",
      "  [0.11808512 0.11948735 0.09130284]\n",
      "  [0.15690824 0.15887514 0.13037708]\n",
      "  [0.17169863 0.1763637  0.15791005]]\n",
      "\n",
      " [[0.01907378 0.02153826 0.06120938]\n",
      "  [0.01907378 0.02153826 0.06120938]\n",
      "  [0.6132071  0.62432206 0.6876409 ]\n",
      "  ...\n",
      "  [0.12410849 0.12630233 0.08471823]\n",
      "  [0.12999785 0.13334289 0.10013089]\n",
      "  [0.1656828  0.16743481 0.17398748]]\n",
      "\n",
      " [[0.01907378 0.02153826 0.06120938]\n",
      "  [0.01907378 0.02153826 0.06120938]\n",
      "  [0.6358036  0.6454776  0.7117993 ]\n",
      "  ...\n",
      "  [0.1271202  0.12970984 0.08142594]\n",
      "  [0.1283747  0.13416967 0.08441556]\n",
      "  [0.15378779 0.15607083 0.14936861]]]\n"
     ]
    },
    {
     "data": {
      "image/png": "[encoded data removed]",
      "text/plain": [
       "<Figure size 640x480 with 1 Axes>"
      ]
     },
     "metadata": {},
     "output_type": "display_data"
    }
   ],
   "source": [
    "import matplotlib.pyplot as plt\n",
    "\n",
    "\n",
    "\n",
    "\n",
    "\n",
    "\n",
    "\n",
    "# Display pixel values of a few images\n",
    "\n",
    "\n",
    "\n",
    "def display_image_values(loader, num_images=5):\n",
    "\n",
    "\n",
    "\n",
    "    images, labels = next(iter(loader))  # Get a batch of images and labels\n",
    "\n",
    "\n",
    "\n",
    "    images = images[:num_images]  # Select the first few images\n",
    "\n",
    "\n",
    "\n",
    "    \n",
    "\n",
    "\n",
    "\n",
    "    for i in range(num_images):\n",
    "\n",
    "\n",
    "\n",
    "        image = images[i].permute(1, 2, 0).numpy()  # Convert to HxWxC format and to numpy array\n",
    "\n",
    "\n",
    "\n",
    "        image = (image * 0.2023 + 0.4914)  # De-normalize using CIFAR-10 mean and std for display\n",
    "\n",
    "\n",
    "\n",
    "\n",
    "\n",
    "\n",
    "\n",
    "        print(f\"Image {i + 1} - Pixel Values:\\n\", image)  # Display pixel values\n",
    "\n",
    "\n",
    "\n",
    "        plt.imshow(image)\n",
    "\n",
    "\n",
    "\n",
    "        plt.title(f\"Image {i + 1} - Label: {labels[i].item()}\")\n",
    "\n",
    "\n",
    "\n",
    "        plt.axis('off')\n",
    "\n",
    "\n",
    "\n",
    "        plt.show()\n",
    "\n",
    "\n",
    "\n",
    "\n",
    "\n",
    "\n",
    "\n",
    "# Display pixel values for images in the training loader\n",
    "\n",
    "\n",
    "\n",
    "display_image_values(train_loader, num_images=3)\n"
   ]
  },
  {
   "cell_type": "code",
   "execution_count": null,
   "id": "46fa7350",
   "metadata": {
    "papermill": {
     "duration": 0.005925,
     "end_time": "2024-11-11T17:34:41.133577",
     "exception": false,
     "start_time": "2024-11-11T17:34:41.127652",
     "status": "completed"
    },
    "tags": []
   },
   "outputs": [],
   "source": []
  },
  {
   "cell_type": "markdown",
   "id": "d1540a7b",
   "metadata": {
    "papermill": {
     "duration": 0.005698,
     "end_time": "2024-11-11T17:34:41.145504",
     "exception": false,
     "start_time": "2024-11-11T17:34:41.139806",
     "status": "completed"
    },
    "tags": []
   },
   "source": [
    "### Implementing the Model ViT"
   ]
  },
  {
   "cell_type": "code",
   "execution_count": null,
   "id": "e7264e55",
   "metadata": {
    "execution": {
     "iopub.execute_input": "2024-11-11T12:03:16.190319Z",
     "iopub.status.busy": "2024-11-11T12:03:16.189497Z",
     "iopub.status.idle": "2024-11-11T12:03:18.630182Z",
     "shell.execute_reply": "2024-11-11T12:03:18.629179Z"
    },
    "papermill": {
     "duration": 0.005656,
     "end_time": "2024-11-11T17:34:41.157036",
     "exception": false,
     "start_time": "2024-11-11T17:34:41.151380",
     "status": "completed"
    },
    "tags": []
   },
   "outputs": [],
   "source": []
  },
  {
   "cell_type": "code",
   "execution_count": 5,
   "id": "8d6da46e",
   "metadata": {
    "execution": {
     "iopub.execute_input": "2024-11-11T17:34:41.170413Z",
     "iopub.status.busy": "2024-11-11T17:34:41.170054Z",
     "iopub.status.idle": "2024-11-11T17:34:43.504613Z",
     "shell.execute_reply": "2024-11-11T17:34:43.503838Z"
    },
    "papermill": {
     "duration": 2.344143,
     "end_time": "2024-11-11T17:34:43.507001",
     "exception": false,
     "start_time": "2024-11-11T17:34:41.162858",
     "status": "completed"
    },
    "tags": []
   },
   "outputs": [],
   "source": [
    "import torch.nn.functional as F\n",
    "\n",
    "\n",
    "\n",
    "import torch\n",
    "\n",
    "\n",
    "\n",
    "import torch.nn as nn\n",
    "\n",
    "\n",
    "\n",
    "import torch.optim as optim\n",
    "\n",
    "\n",
    "\n",
    "import torch.nn.functional as F\n",
    "\n",
    "\n",
    "\n",
    "from sklearn.metrics import accuracy_score, precision_score, recall_score, f1_score, confusion_matrix\n",
    "\n",
    "\n",
    "\n",
    "import matplotlib.pyplot as plt\n",
    "\n",
    "\n",
    "\n",
    "import seaborn as sns\n",
    "\n",
    "\n",
    "\n",
    "\n",
    "\n",
    "\n",
    "\n",
    "class PatchEmbedding(nn.Module):\n",
    "\n",
    "\n",
    "\n",
    "    def __init__(self, img_size=32, patch_size=4, in_channels=3, embed_dim=64):\n",
    "\n",
    "\n",
    "\n",
    "        super().__init__()\n",
    "\n",
    "\n",
    "\n",
    "        self.num_patches = (img_size // patch_size) ** 2\n",
    "\n",
    "\n",
    "\n",
    "        self.patch_dim = in_channels * patch_size * patch_size\n",
    "\n",
    "\n",
    "\n",
    "        self.projection = nn.Linear(self.patch_dim, embed_dim)\n",
    "\n",
    "\n",
    "\n",
    "        \n",
    "\n",
    "\n",
    "\n",
    "    def forward(self, x):\n",
    "\n",
    "\n",
    "\n",
    "        batch_size, channels, height, width = x.shape\n",
    "\n",
    "\n",
    "\n",
    "        patches = x.unfold(2, 4, 4).unfold(3, 4, 4)\n",
    "\n",
    "\n",
    "\n",
    "        patches = patches.contiguous().view(batch_size, -1, self.patch_dim)\n",
    "\n",
    "\n",
    "\n",
    "        embeddings = self.projection(patches)\n",
    "\n",
    "\n",
    "\n",
    "        return embeddings\n",
    "\n",
    "\n",
    "\n",
    "\n",
    "\n",
    "\n",
    "\n",
    "class PositionalEncoding(nn.Module):\n",
    "\n",
    "\n",
    "\n",
    "    def __init__(self, embed_dim, num_patches):\n",
    "\n",
    "\n",
    "\n",
    "        super().__init__()\n",
    "\n",
    "\n",
    "\n",
    "        self.positional_encoding = nn.Parameter(torch.randn(1, num_patches, embed_dim))\n",
    "\n",
    "\n",
    "\n",
    "\n",
    "\n",
    "\n",
    "\n",
    "    def forward(self, x):\n",
    "\n",
    "\n",
    "\n",
    "        return x + self.positional_encoding\n",
    "\n",
    "\n",
    "\n",
    "\n",
    "\n",
    "class MultiHeadSelfAttention(nn.Module):\n",
    "\n",
    "\n",
    "\n",
    "    def __init__(self, embed_dim, num_heads, dropout=0.1):\n",
    "\n",
    "\n",
    "\n",
    "        super().__init__()\n",
    "\n",
    "\n",
    "\n",
    "        self.num_heads = num_heads\n",
    "\n",
    "\n",
    "\n",
    "        self.attention = nn.MultiheadAttention(embed_dim, num_heads, dropout=dropout)  # Dropout within attention\n",
    "\n",
    "\n",
    "\n",
    "        self.dropout = nn.Dropout(dropout)  # Dropout after attention output\n",
    "\n",
    "\n",
    "\n",
    "        \n",
    "\n",
    "\n",
    "\n",
    "    def forward(self, x):\n",
    "\n",
    "\n",
    "\n",
    "        x = x.transpose(0, 1)  # Required shape: (sequence_length, batch_size, embed_dim)\n",
    "\n",
    "\n",
    "\n",
    "        attn_output, _ = self.attention(x, x, x)\n",
    "\n",
    "\n",
    "\n",
    "        attn_output = self.dropout(attn_output)  # Apply dropout after attention output\n",
    "\n",
    "\n",
    "\n",
    "        return attn_output.transpose(0, 1)  # Back to (batch_size, sequence_length, embed_dim)\n",
    "\n",
    "\n",
    "\n",
    "\n",
    "\n",
    "\n",
    "\n",
    "class TransformerEncoderLayer(nn.Module):\n",
    "\n",
    "\n",
    "\n",
    "    def __init__(self, embed_dim, num_heads, hidden_dim, dropout=0.1):\n",
    "\n",
    "\n",
    "\n",
    "        super().__init__()\n",
    "\n",
    "\n",
    "\n",
    "        self.self_attn = MultiHeadSelfAttention(embed_dim, num_heads, dropout=dropout)\n",
    "\n",
    "\n",
    "\n",
    "        self.norm1 = nn.LayerNorm(embed_dim)\n",
    "\n",
    "\n",
    "\n",
    "        self.norm2 = nn.LayerNorm(embed_dim)\n",
    "\n",
    "\n",
    "\n",
    "        self.dropout1 = nn.Dropout(dropout)  # Dropout after first residual connection\n",
    "\n",
    "\n",
    "\n",
    "        self.fc = nn.Sequential(\n",
    "\n",
    "\n",
    "\n",
    "            nn.Linear(embed_dim, hidden_dim),\n",
    "\n",
    "\n",
    "\n",
    "            nn.GELU(),\n",
    "\n",
    "\n",
    "\n",
    "            nn.Dropout(dropout),  # Dropout within feed-forward network\n",
    "\n",
    "\n",
    "\n",
    "            nn.Linear(hidden_dim, embed_dim)\n",
    "\n",
    "\n",
    "\n",
    "        )\n",
    "\n",
    "\n",
    "\n",
    "        self.dropout2 = nn.Dropout(dropout)  # Dropout after second residual connection\n",
    "\n",
    "\n",
    "\n",
    "\n",
    "\n",
    "\n",
    "\n",
    "    def forward(self, x):\n",
    "\n",
    "\n",
    "\n",
    "        # Self-attention with dropout and residual connection\n",
    "\n",
    "\n",
    "\n",
    "        x = x + self.dropout1(self.self_attn(x))\n",
    "\n",
    "\n",
    "\n",
    "        x = self.norm1(x)\n",
    "\n",
    "\n",
    "\n",
    "        \n",
    "\n",
    "\n",
    "\n",
    "        # Feed-forward network with dropout and residual connection\n",
    "\n",
    "\n",
    "\n",
    "        x = x + self.dropout2(self.fc(x))\n",
    "\n",
    "\n",
    "\n",
    "        x = self.norm2(x)\n",
    "\n",
    "\n",
    "\n",
    "        return x\n",
    "\n",
    "\n",
    "\n",
    "\n",
    "\n",
    "\n",
    "\n",
    "class VisionTransformer(nn.Module):\n",
    "\n",
    "\n",
    "\n",
    "    def __init__(self, img_size=32, patch_size=4, in_channels=3, embed_dim=64, num_heads=4, num_layers=6, num_classes=10, dropout=0.1):\n",
    "\n",
    "\n",
    "\n",
    "        super().__init__()\n",
    "\n",
    "\n",
    "\n",
    "        self.patch_embed = PatchEmbedding(img_size, patch_size, in_channels, embed_dim)\n",
    "\n",
    "\n",
    "\n",
    "        self.pos_encoding = PositionalEncoding(embed_dim, self.patch_embed.num_patches)\n",
    "\n",
    "\n",
    "\n",
    "        self.transformer_layers = nn.Sequential(\n",
    "\n",
    "\n",
    "\n",
    "            *[TransformerEncoderLayer(embed_dim, num_heads, embed_dim * 2, dropout=dropout) for _ in range(num_layers)]\n",
    "\n",
    "\n",
    "\n",
    "        )\n",
    "\n",
    "\n",
    "\n",
    "        self.classifier = nn.Linear(embed_dim, num_classes)\n",
    "\n",
    "\n",
    "\n",
    "\n",
    "\n",
    "\n",
    "\n",
    "    def forward(self, x):\n",
    "\n",
    "\n",
    "\n",
    "        x = self.patch_embed(x)\n",
    "\n",
    "\n",
    "\n",
    "        x = self.pos_encoding(x)\n",
    "\n",
    "\n",
    "\n",
    "        x = self.transformer_layers(x)\n",
    "\n",
    "\n",
    "\n",
    "        x = x.mean(dim=1)  # Global average pooling over sequence length\n",
    "\n",
    "\n",
    "\n",
    "        return self.classifier(x)\n",
    "\n",
    "\n",
    "\n",
    "\n",
    "\n",
    "\n",
    "\n",
    "\n",
    "\n",
    "\n",
    "\n",
    "\n",
    "\n",
    "\n",
    "\n",
    "\n"
   ]
  },
  {
   "cell_type": "code",
   "execution_count": 6,
   "id": "02b4d7f9",
   "metadata": {
    "execution": {
     "iopub.execute_input": "2024-11-11T17:34:43.521187Z",
     "iopub.status.busy": "2024-11-11T17:34:43.520752Z",
     "iopub.status.idle": "2024-11-11T18:15:32.963948Z",
     "shell.execute_reply": "2024-11-11T18:15:32.962779Z"
    },
    "papermill": {
     "duration": 2449.452443,
     "end_time": "2024-11-11T18:15:32.966006",
     "exception": false,
     "start_time": "2024-11-11T17:34:43.513563",
     "status": "completed"
    },
    "tags": []
   },
   "outputs": [
    {
     "name": "stderr",
     "output_type": "stream",
     "text": [
      "Training: 100%|██████████| 196/196 [01:22<00:00,  2.39it/s]\n"
     ]
    },
    {
     "name": "stdout",
     "output_type": "stream",
     "text": [
      "Epoch 1, Training Loss: 2.0259\n"
     ]
    },
    {
     "name": "stderr",
     "output_type": "stream",
     "text": [
      "Evaluating: 100%|██████████| 40/40 [00:01<00:00, 22.29it/s]\n"
     ]
    },
    {
     "name": "stdout",
     "output_type": "stream",
     "text": [
      "Validation Loss: 1.8181, Accuracy: 0.3309, Precision: 0.3475, Recall: 0.3309, F1-Score: 0.3160\n"
     ]
    },
    {
     "name": "stderr",
     "output_type": "stream",
     "text": [
      "Training: 100%|██████████| 196/196 [01:20<00:00,  2.43it/s]\n"
     ]
    },
    {
     "name": "stdout",
     "output_type": "stream",
     "text": [
      "Epoch 2, Training Loss: 1.8089\n"
     ]
    },
    {
     "name": "stderr",
     "output_type": "stream",
     "text": [
      "Evaluating: 100%|██████████| 40/40 [00:01<00:00, 24.35it/s]\n"
     ]
    },
    {
     "name": "stdout",
     "output_type": "stream",
     "text": [
      "Validation Loss: 1.6528, Accuracy: 0.3927, Precision: 0.3953, Recall: 0.3927, F1-Score: 0.3715\n"
     ]
    },
    {
     "name": "stderr",
     "output_type": "stream",
     "text": [
      "Training: 100%|██████████| 196/196 [01:20<00:00,  2.43it/s]\n"
     ]
    },
    {
     "name": "stdout",
     "output_type": "stream",
     "text": [
      "Epoch 3, Training Loss: 1.7190\n"
     ]
    },
    {
     "name": "stderr",
     "output_type": "stream",
     "text": [
      "Evaluating: 100%|██████████| 40/40 [00:01<00:00, 25.67it/s]\n"
     ]
    },
    {
     "name": "stdout",
     "output_type": "stream",
     "text": [
      "Validation Loss: 1.5825, Accuracy: 0.4254, Precision: 0.4242, Recall: 0.4254, F1-Score: 0.4105\n"
     ]
    },
    {
     "name": "stderr",
     "output_type": "stream",
     "text": [
      "Training: 100%|██████████| 196/196 [01:19<00:00,  2.46it/s]\n"
     ]
    },
    {
     "name": "stdout",
     "output_type": "stream",
     "text": [
      "Epoch 4, Training Loss: 1.6589\n"
     ]
    },
    {
     "name": "stderr",
     "output_type": "stream",
     "text": [
      "Evaluating: 100%|██████████| 40/40 [00:01<00:00, 26.62it/s]\n"
     ]
    },
    {
     "name": "stdout",
     "output_type": "stream",
     "text": [
      "Validation Loss: 1.5366, Accuracy: 0.4434, Precision: 0.4423, Recall: 0.4434, F1-Score: 0.4281\n"
     ]
    },
    {
     "name": "stderr",
     "output_type": "stream",
     "text": [
      "Training: 100%|██████████| 196/196 [01:19<00:00,  2.47it/s]\n"
     ]
    },
    {
     "name": "stdout",
     "output_type": "stream",
     "text": [
      "Epoch 5, Training Loss: 1.6119\n"
     ]
    },
    {
     "name": "stderr",
     "output_type": "stream",
     "text": [
      "Evaluating: 100%|██████████| 40/40 [00:01<00:00, 25.69it/s]\n"
     ]
    },
    {
     "name": "stdout",
     "output_type": "stream",
     "text": [
      "Validation Loss: 1.4772, Accuracy: 0.4643, Precision: 0.4588, Recall: 0.4643, F1-Score: 0.4490\n"
     ]
    },
    {
     "name": "stderr",
     "output_type": "stream",
     "text": [
      "Training: 100%|██████████| 196/196 [01:20<00:00,  2.44it/s]\n"
     ]
    },
    {
     "name": "stdout",
     "output_type": "stream",
     "text": [
      "Epoch 6, Training Loss: 1.5534\n"
     ]
    },
    {
     "name": "stderr",
     "output_type": "stream",
     "text": [
      "Evaluating: 100%|██████████| 40/40 [00:01<00:00, 26.22it/s]\n"
     ]
    },
    {
     "name": "stdout",
     "output_type": "stream",
     "text": [
      "Validation Loss: 1.4551, Accuracy: 0.4736, Precision: 0.4662, Recall: 0.4736, F1-Score: 0.4577\n"
     ]
    },
    {
     "name": "stderr",
     "output_type": "stream",
     "text": [
      "Training: 100%|██████████| 196/196 [01:19<00:00,  2.46it/s]\n"
     ]
    },
    {
     "name": "stdout",
     "output_type": "stream",
     "text": [
      "Epoch 7, Training Loss: 1.5317\n"
     ]
    },
    {
     "name": "stderr",
     "output_type": "stream",
     "text": [
      "Evaluating: 100%|██████████| 40/40 [00:01<00:00, 25.99it/s]\n"
     ]
    },
    {
     "name": "stdout",
     "output_type": "stream",
     "text": [
      "Validation Loss: 1.4123, Accuracy: 0.4914, Precision: 0.4811, Recall: 0.4914, F1-Score: 0.4766\n"
     ]
    },
    {
     "name": "stderr",
     "output_type": "stream",
     "text": [
      "Training: 100%|██████████| 196/196 [01:21<00:00,  2.42it/s]\n"
     ]
    },
    {
     "name": "stdout",
     "output_type": "stream",
     "text": [
      "Epoch 8, Training Loss: 1.5188\n"
     ]
    },
    {
     "name": "stderr",
     "output_type": "stream",
     "text": [
      "Evaluating: 100%|██████████| 40/40 [00:01<00:00, 26.30it/s]\n"
     ]
    },
    {
     "name": "stdout",
     "output_type": "stream",
     "text": [
      "Validation Loss: 1.4321, Accuracy: 0.4831, Precision: 0.4891, Recall: 0.4831, F1-Score: 0.4671\n"
     ]
    },
    {
     "name": "stderr",
     "output_type": "stream",
     "text": [
      "Training: 100%|██████████| 196/196 [01:19<00:00,  2.46it/s]\n"
     ]
    },
    {
     "name": "stdout",
     "output_type": "stream",
     "text": [
      "Epoch 9, Training Loss: 1.4962\n"
     ]
    },
    {
     "name": "stderr",
     "output_type": "stream",
     "text": [
      "Evaluating: 100%|██████████| 40/40 [00:01<00:00, 23.93it/s]\n"
     ]
    },
    {
     "name": "stdout",
     "output_type": "stream",
     "text": [
      "Validation Loss: 1.3874, Accuracy: 0.5012, Precision: 0.4949, Recall: 0.5012, F1-Score: 0.4898\n"
     ]
    },
    {
     "name": "stderr",
     "output_type": "stream",
     "text": [
      "Training: 100%|██████████| 196/196 [01:19<00:00,  2.47it/s]\n"
     ]
    },
    {
     "name": "stdout",
     "output_type": "stream",
     "text": [
      "Epoch 10, Training Loss: 1.4791\n"
     ]
    },
    {
     "name": "stderr",
     "output_type": "stream",
     "text": [
      "Evaluating: 100%|██████████| 40/40 [00:01<00:00, 25.92it/s]\n"
     ]
    },
    {
     "name": "stdout",
     "output_type": "stream",
     "text": [
      "Validation Loss: 1.3668, Accuracy: 0.5031, Precision: 0.4976, Recall: 0.5031, F1-Score: 0.4916\n"
     ]
    },
    {
     "name": "stderr",
     "output_type": "stream",
     "text": [
      "Training: 100%|██████████| 196/196 [01:23<00:00,  2.36it/s]\n"
     ]
    },
    {
     "name": "stdout",
     "output_type": "stream",
     "text": [
      "Epoch 11, Training Loss: 1.4545\n"
     ]
    },
    {
     "name": "stderr",
     "output_type": "stream",
     "text": [
      "Evaluating: 100%|██████████| 40/40 [00:01<00:00, 25.93it/s]\n"
     ]
    },
    {
     "name": "stdout",
     "output_type": "stream",
     "text": [
      "Validation Loss: 1.3377, Accuracy: 0.5232, Precision: 0.5173, Recall: 0.5232, F1-Score: 0.5141\n"
     ]
    },
    {
     "name": "stderr",
     "output_type": "stream",
     "text": [
      "Training: 100%|██████████| 196/196 [01:21<00:00,  2.41it/s]\n"
     ]
    },
    {
     "name": "stdout",
     "output_type": "stream",
     "text": [
      "Epoch 12, Training Loss: 1.4411\n"
     ]
    },
    {
     "name": "stderr",
     "output_type": "stream",
     "text": [
      "Evaluating: 100%|██████████| 40/40 [00:01<00:00, 26.09it/s]\n"
     ]
    },
    {
     "name": "stdout",
     "output_type": "stream",
     "text": [
      "Validation Loss: 1.3397, Accuracy: 0.5177, Precision: 0.5157, Recall: 0.5177, F1-Score: 0.5105\n"
     ]
    },
    {
     "name": "stderr",
     "output_type": "stream",
     "text": [
      "Training: 100%|██████████| 196/196 [01:20<00:00,  2.44it/s]\n"
     ]
    },
    {
     "name": "stdout",
     "output_type": "stream",
     "text": [
      "Epoch 13, Training Loss: 1.4372\n"
     ]
    },
    {
     "name": "stderr",
     "output_type": "stream",
     "text": [
      "Evaluating: 100%|██████████| 40/40 [00:01<00:00, 25.89it/s]\n"
     ]
    },
    {
     "name": "stdout",
     "output_type": "stream",
     "text": [
      "Validation Loss: 1.3362, Accuracy: 0.5181, Precision: 0.5153, Recall: 0.5181, F1-Score: 0.5062\n"
     ]
    },
    {
     "name": "stderr",
     "output_type": "stream",
     "text": [
      "Training: 100%|██████████| 196/196 [01:19<00:00,  2.47it/s]\n"
     ]
    },
    {
     "name": "stdout",
     "output_type": "stream",
     "text": [
      "Epoch 14, Training Loss: 1.4253\n"
     ]
    },
    {
     "name": "stderr",
     "output_type": "stream",
     "text": [
      "Evaluating: 100%|██████████| 40/40 [00:01<00:00, 25.84it/s]\n"
     ]
    },
    {
     "name": "stdout",
     "output_type": "stream",
     "text": [
      "Validation Loss: 1.3172, Accuracy: 0.5247, Precision: 0.5254, Recall: 0.5247, F1-Score: 0.5194\n"
     ]
    },
    {
     "name": "stderr",
     "output_type": "stream",
     "text": [
      "Training: 100%|██████████| 196/196 [01:20<00:00,  2.44it/s]\n"
     ]
    },
    {
     "name": "stdout",
     "output_type": "stream",
     "text": [
      "Epoch 15, Training Loss: 1.4252\n"
     ]
    },
    {
     "name": "stderr",
     "output_type": "stream",
     "text": [
      "Evaluating: 100%|██████████| 40/40 [00:01<00:00, 25.80it/s]\n"
     ]
    },
    {
     "name": "stdout",
     "output_type": "stream",
     "text": [
      "Validation Loss: 1.3137, Accuracy: 0.5279, Precision: 0.5208, Recall: 0.5279, F1-Score: 0.5176\n"
     ]
    },
    {
     "name": "stderr",
     "output_type": "stream",
     "text": [
      "Training: 100%|██████████| 196/196 [01:20<00:00,  2.43it/s]\n"
     ]
    },
    {
     "name": "stdout",
     "output_type": "stream",
     "text": [
      "Epoch 16, Training Loss: 1.4105\n"
     ]
    },
    {
     "name": "stderr",
     "output_type": "stream",
     "text": [
      "Evaluating: 100%|██████████| 40/40 [00:01<00:00, 25.93it/s]\n"
     ]
    },
    {
     "name": "stdout",
     "output_type": "stream",
     "text": [
      "Validation Loss: 1.3067, Accuracy: 0.5284, Precision: 0.5237, Recall: 0.5284, F1-Score: 0.5209\n"
     ]
    },
    {
     "name": "stderr",
     "output_type": "stream",
     "text": [
      "Training: 100%|██████████| 196/196 [01:21<00:00,  2.39it/s]\n"
     ]
    },
    {
     "name": "stdout",
     "output_type": "stream",
     "text": [
      "Epoch 17, Training Loss: 1.4024\n"
     ]
    },
    {
     "name": "stderr",
     "output_type": "stream",
     "text": [
      "Evaluating: 100%|██████████| 40/40 [00:01<00:00, 23.61it/s]\n"
     ]
    },
    {
     "name": "stdout",
     "output_type": "stream",
     "text": [
      "Validation Loss: 1.3021, Accuracy: 0.5294, Precision: 0.5277, Recall: 0.5294, F1-Score: 0.5197\n"
     ]
    },
    {
     "name": "stderr",
     "output_type": "stream",
     "text": [
      "Training: 100%|██████████| 196/196 [01:20<00:00,  2.44it/s]\n"
     ]
    },
    {
     "name": "stdout",
     "output_type": "stream",
     "text": [
      "Epoch 18, Training Loss: 1.4018\n"
     ]
    },
    {
     "name": "stderr",
     "output_type": "stream",
     "text": [
      "Evaluating: 100%|██████████| 40/40 [00:01<00:00, 25.65it/s]\n"
     ]
    },
    {
     "name": "stdout",
     "output_type": "stream",
     "text": [
      "Validation Loss: 1.2911, Accuracy: 0.5333, Precision: 0.5279, Recall: 0.5333, F1-Score: 0.5263\n"
     ]
    },
    {
     "name": "stderr",
     "output_type": "stream",
     "text": [
      "Training: 100%|██████████| 196/196 [01:19<00:00,  2.46it/s]\n"
     ]
    },
    {
     "name": "stdout",
     "output_type": "stream",
     "text": [
      "Epoch 19, Training Loss: 1.3963\n"
     ]
    },
    {
     "name": "stderr",
     "output_type": "stream",
     "text": [
      "Evaluating: 100%|██████████| 40/40 [00:01<00:00, 25.97it/s]\n"
     ]
    },
    {
     "name": "stdout",
     "output_type": "stream",
     "text": [
      "Validation Loss: 1.3026, Accuracy: 0.5308, Precision: 0.5279, Recall: 0.5308, F1-Score: 0.5217\n"
     ]
    },
    {
     "name": "stderr",
     "output_type": "stream",
     "text": [
      "Training: 100%|██████████| 196/196 [01:20<00:00,  2.45it/s]\n"
     ]
    },
    {
     "name": "stdout",
     "output_type": "stream",
     "text": [
      "Epoch 20, Training Loss: 1.3910\n"
     ]
    },
    {
     "name": "stderr",
     "output_type": "stream",
     "text": [
      "Evaluating: 100%|██████████| 40/40 [00:01<00:00, 26.09it/s]\n"
     ]
    },
    {
     "name": "stdout",
     "output_type": "stream",
     "text": [
      "Validation Loss: 1.2903, Accuracy: 0.5309, Precision: 0.5267, Recall: 0.5309, F1-Score: 0.5214\n"
     ]
    },
    {
     "name": "stderr",
     "output_type": "stream",
     "text": [
      "Training: 100%|██████████| 196/196 [01:20<00:00,  2.43it/s]\n"
     ]
    },
    {
     "name": "stdout",
     "output_type": "stream",
     "text": [
      "Epoch 21, Training Loss: 1.3850\n"
     ]
    },
    {
     "name": "stderr",
     "output_type": "stream",
     "text": [
      "Evaluating: 100%|██████████| 40/40 [00:01<00:00, 25.54it/s]\n"
     ]
    },
    {
     "name": "stdout",
     "output_type": "stream",
     "text": [
      "Validation Loss: 1.2863, Accuracy: 0.5326, Precision: 0.5292, Recall: 0.5326, F1-Score: 0.5247\n"
     ]
    },
    {
     "name": "stderr",
     "output_type": "stream",
     "text": [
      "Training: 100%|██████████| 196/196 [01:20<00:00,  2.45it/s]\n"
     ]
    },
    {
     "name": "stdout",
     "output_type": "stream",
     "text": [
      "Epoch 22, Training Loss: 1.3826\n"
     ]
    },
    {
     "name": "stderr",
     "output_type": "stream",
     "text": [
      "Evaluating: 100%|██████████| 40/40 [00:01<00:00, 26.15it/s]\n"
     ]
    },
    {
     "name": "stdout",
     "output_type": "stream",
     "text": [
      "Validation Loss: 1.2799, Accuracy: 0.5382, Precision: 0.5327, Recall: 0.5382, F1-Score: 0.5319\n"
     ]
    },
    {
     "name": "stderr",
     "output_type": "stream",
     "text": [
      "Training: 100%|██████████| 196/196 [01:18<00:00,  2.49it/s]\n"
     ]
    },
    {
     "name": "stdout",
     "output_type": "stream",
     "text": [
      "Epoch 23, Training Loss: 1.3790\n"
     ]
    },
    {
     "name": "stderr",
     "output_type": "stream",
     "text": [
      "Evaluating: 100%|██████████| 40/40 [00:01<00:00, 26.73it/s]\n"
     ]
    },
    {
     "name": "stdout",
     "output_type": "stream",
     "text": [
      "Validation Loss: 1.2841, Accuracy: 0.5355, Precision: 0.5304, Recall: 0.5355, F1-Score: 0.5262\n"
     ]
    },
    {
     "name": "stderr",
     "output_type": "stream",
     "text": [
      "Training: 100%|██████████| 196/196 [01:19<00:00,  2.48it/s]\n"
     ]
    },
    {
     "name": "stdout",
     "output_type": "stream",
     "text": [
      "Epoch 24, Training Loss: 1.3830\n"
     ]
    },
    {
     "name": "stderr",
     "output_type": "stream",
     "text": [
      "Evaluating: 100%|██████████| 40/40 [00:01<00:00, 26.61it/s]\n"
     ]
    },
    {
     "name": "stdout",
     "output_type": "stream",
     "text": [
      "Validation Loss: 1.2821, Accuracy: 0.5382, Precision: 0.5322, Recall: 0.5382, F1-Score: 0.5291\n"
     ]
    },
    {
     "name": "stderr",
     "output_type": "stream",
     "text": [
      "Training: 100%|██████████| 196/196 [01:18<00:00,  2.49it/s]\n"
     ]
    },
    {
     "name": "stdout",
     "output_type": "stream",
     "text": [
      "Epoch 25, Training Loss: 1.3765\n"
     ]
    },
    {
     "name": "stderr",
     "output_type": "stream",
     "text": [
      "Evaluating: 100%|██████████| 40/40 [00:01<00:00, 24.31it/s]\n"
     ]
    },
    {
     "name": "stdout",
     "output_type": "stream",
     "text": [
      "Validation Loss: 1.2864, Accuracy: 0.5330, Precision: 0.5288, Recall: 0.5330, F1-Score: 0.5225\n"
     ]
    },
    {
     "name": "stderr",
     "output_type": "stream",
     "text": [
      "Training: 100%|██████████| 196/196 [01:18<00:00,  2.50it/s]\n"
     ]
    },
    {
     "name": "stdout",
     "output_type": "stream",
     "text": [
      "Epoch 26, Training Loss: 1.3751\n"
     ]
    },
    {
     "name": "stderr",
     "output_type": "stream",
     "text": [
      "Evaluating: 100%|██████████| 40/40 [00:01<00:00, 26.63it/s]\n"
     ]
    },
    {
     "name": "stdout",
     "output_type": "stream",
     "text": [
      "Validation Loss: 1.2742, Accuracy: 0.5388, Precision: 0.5337, Recall: 0.5388, F1-Score: 0.5306\n"
     ]
    },
    {
     "name": "stderr",
     "output_type": "stream",
     "text": [
      "Training: 100%|██████████| 196/196 [01:19<00:00,  2.48it/s]\n"
     ]
    },
    {
     "name": "stdout",
     "output_type": "stream",
     "text": [
      "Epoch 27, Training Loss: 1.3736\n"
     ]
    },
    {
     "name": "stderr",
     "output_type": "stream",
     "text": [
      "Evaluating: 100%|██████████| 40/40 [00:01<00:00, 26.95it/s]\n"
     ]
    },
    {
     "name": "stdout",
     "output_type": "stream",
     "text": [
      "Validation Loss: 1.2746, Accuracy: 0.5385, Precision: 0.5339, Recall: 0.5385, F1-Score: 0.5305\n"
     ]
    },
    {
     "name": "stderr",
     "output_type": "stream",
     "text": [
      "Training: 100%|██████████| 196/196 [01:19<00:00,  2.48it/s]\n"
     ]
    },
    {
     "name": "stdout",
     "output_type": "stream",
     "text": [
      "Epoch 28, Training Loss: 1.3750\n"
     ]
    },
    {
     "name": "stderr",
     "output_type": "stream",
     "text": [
      "Evaluating: 100%|██████████| 40/40 [00:01<00:00, 26.79it/s]\n"
     ]
    },
    {
     "name": "stdout",
     "output_type": "stream",
     "text": [
      "Validation Loss: 1.2745, Accuracy: 0.5383, Precision: 0.5339, Recall: 0.5383, F1-Score: 0.5301\n"
     ]
    },
    {
     "name": "stderr",
     "output_type": "stream",
     "text": [
      "Training: 100%|██████████| 196/196 [01:18<00:00,  2.49it/s]\n"
     ]
    },
    {
     "name": "stdout",
     "output_type": "stream",
     "text": [
      "Epoch 29, Training Loss: 1.3672\n"
     ]
    },
    {
     "name": "stderr",
     "output_type": "stream",
     "text": [
      "Evaluating: 100%|██████████| 40/40 [00:01<00:00, 26.56it/s]\n"
     ]
    },
    {
     "name": "stdout",
     "output_type": "stream",
     "text": [
      "Validation Loss: 1.2759, Accuracy: 0.5392, Precision: 0.5340, Recall: 0.5392, F1-Score: 0.5312\n"
     ]
    },
    {
     "name": "stderr",
     "output_type": "stream",
     "text": [
      "Training: 100%|██████████| 196/196 [01:18<00:00,  2.50it/s]\n"
     ]
    },
    {
     "name": "stdout",
     "output_type": "stream",
     "text": [
      "Epoch 30, Training Loss: 1.3698\n"
     ]
    },
    {
     "name": "stderr",
     "output_type": "stream",
     "text": [
      "Evaluating: 100%|██████████| 40/40 [00:01<00:00, 26.51it/s]"
     ]
    },
    {
     "name": "stdout",
     "output_type": "stream",
     "text": [
      "Validation Loss: 1.2744, Accuracy: 0.5377, Precision: 0.5327, Recall: 0.5377, F1-Score: 0.5295\n",
      "Model saved as 'vision_transformer_best_model.pth'\n"
     ]
    },
    {
     "name": "stderr",
     "output_type": "stream",
     "text": [
      "\n"
     ]
    }
   ],
   "source": [
    "from tqdm import tqdm\n",
    "\n",
    "import torch\n",
    "\n",
    "import torch.nn as nn\n",
    "\n",
    "import torch.optim as optim\n",
    "\n",
    "import matplotlib.pyplot as plt\n",
    "\n",
    "import numpy as np\n",
    "\n",
    "from sklearn.metrics import accuracy_score, precision_score, recall_score, f1_score\n",
    "\n",
    "\n",
    "\n",
    "# Initialize model, criterion, optimizer, and scheduler\n",
    "\n",
    "device = torch.device('cuda' if torch.cuda.is_available() else 'cpu')\n",
    "\n",
    "\n",
    "\n",
    "# Adjust model complexity by reducing embed_dim, num_heads, and num_layers\n",
    "\n",
    "model = VisionTransformer(img_size=32, patch_size=4, in_channels=3, embed_dim=64, num_heads=4, num_layers=8, num_classes=10, dropout=0.1).to(device)\n",
    "\n",
    "\n",
    "\n",
    "# Define criterion\n",
    "\n",
    "criterion = nn.CrossEntropyLoss()\n",
    "\n",
    "\n",
    "\n",
    "# Lower learning rate and increase weight decay\n",
    "\n",
    "optimizer = optim.AdamW(model.parameters(), lr=0.0005, weight_decay=0.01)\n",
    "\n",
    "\n",
    "\n",
    "# Learning rate scheduler with reduced step size and decay rate\n",
    "\n",
    "scheduler = optim.lr_scheduler.StepLR(optimizer, step_size=5, gamma=0.5)\n",
    "\n",
    "\n",
    "\n",
    "# Early stopping parameters\n",
    "\n",
    "patience = 5\n",
    "\n",
    "best_loss = np.inf\n",
    "\n",
    "epochs_no_improve = 0\n",
    "\n",
    "\n",
    "\n",
    "# Lists to store loss values for plotting\n",
    "\n",
    "train_losses = []\n",
    "\n",
    "val_losses = []\n",
    "\n",
    "\n",
    "\n",
    "# Training function\n",
    "\n",
    "def train(model, loader):\n",
    "\n",
    "    model.train()\n",
    "\n",
    "    total_loss = 0\n",
    "\n",
    "    for images, labels in tqdm(loader, desc=\"Training\"):\n",
    "\n",
    "        images, labels = images.to(device), labels.to(device).long()\n",
    "\n",
    "        optimizer.zero_grad()\n",
    "\n",
    "        outputs = model(images)\n",
    "\n",
    "        loss = criterion(outputs, labels)\n",
    "\n",
    "        loss.backward()\n",
    "\n",
    "        optimizer.step()\n",
    "\n",
    "        total_loss += loss.item()\n",
    "\n",
    "    scheduler.step()  # Step the scheduler\n",
    "\n",
    "    return total_loss / len(loader)\n",
    "\n",
    "\n",
    "\n",
    "# Evaluation function with softmax for probabilities\n",
    "\n",
    "def evaluate(model, loader):\n",
    "\n",
    "    model.eval()\n",
    "\n",
    "    preds, true_labels, logits_list = [], [], []\n",
    "\n",
    "    with torch.no_grad():\n",
    "\n",
    "        for images, labels in tqdm(loader, desc=\"Evaluating\"):\n",
    "\n",
    "            images, labels = images.to(device), labels.to(device).long()\n",
    "\n",
    "            outputs = model(images)  # Raw logits\n",
    "\n",
    "            logits_list.extend(outputs)  # Store logits for loss calculation\n",
    "\n",
    "            probs = torch.softmax(outputs, dim=1)  # Apply softmax to get probabilities\n",
    "\n",
    "            _, predicted = torch.max(probs, 1)  # Get predicted classes\n",
    "\n",
    "            preds.extend(predicted.cpu().numpy())\n",
    "\n",
    "            true_labels.extend(labels.cpu().numpy())\n",
    "\n",
    "    return preds, true_labels, logits_list\n",
    "\n",
    "\n",
    "\n",
    "# Training loop with early stopping and loss tracking\n",
    "\n",
    "n_epochs = 30\n",
    "\n",
    "\n",
    "\n",
    "for epoch in range(n_epochs):\n",
    "\n",
    "    # Training step\n",
    "\n",
    "    train_loss = train(model, train_loader)\n",
    "\n",
    "    train_losses.append(train_loss)  # Store training loss for this epoch\n",
    "\n",
    "    print(f\"Epoch {epoch + 1}, Training Loss: {train_loss:.4f}\")\n",
    "\n",
    "    \n",
    "\n",
    "    # Validation step\n",
    "\n",
    "    preds, true_labels, logits_list = evaluate(model, test_loader)\n",
    "\n",
    "    accuracy = accuracy_score(true_labels, preds)\n",
    "\n",
    "    precision = precision_score(true_labels, preds, average='macro')\n",
    "\n",
    "    recall = recall_score(true_labels, preds, average='macro')\n",
    "\n",
    "    f1 = f1_score(true_labels, preds, average='macro')\n",
    "\n",
    "    \n",
    "\n",
    "    # Calculate validation loss using logits (no softmax here, just logits)\n",
    "\n",
    "    val_loss = criterion(torch.stack(logits_list).to(device), torch.tensor(true_labels).to(device).long()).item()\n",
    "\n",
    "    val_losses.append(val_loss)  # Store validation loss for plotting\n",
    "\n",
    "    \n",
    "\n",
    "    print(f\"Validation Loss: {val_loss:.4f}, Accuracy: {accuracy:.4f}, Precision: {precision:.4f}, Recall: {recall:.4f}, F1-Score: {f1:.4f}\")\n",
    "\n",
    "    \n",
    "\n",
    "    # Early stopping logic\n",
    "\n",
    "    if val_loss < best_loss:\n",
    "\n",
    "        best_loss = val_loss\n",
    "\n",
    "        epochs_no_improve = 0\n",
    "\n",
    "        best_model = model.state_dict()\n",
    "\n",
    "    else:\n",
    "\n",
    "        epochs_no_improve += 1\n",
    "\n",
    "    \n",
    "\n",
    "    # Check if early stopping criterion is met\n",
    "\n",
    "    if epochs_no_improve == patience:\n",
    "\n",
    "        print(\"Early stopping triggered. Restoring the best model.\")\n",
    "\n",
    "        model.load_state_dict(best_model)\n",
    "\n",
    "        break\n",
    "\n",
    "\n",
    "\n",
    "# Save the model's state dictionary\n",
    "\n",
    "torch.save(best_model, 'vision_transformer_best_model.pth')\n",
    "\n",
    "print(\"Model saved as 'vision_transformer_best_model.pth'\")\n"
   ]
  },
  {
   "cell_type": "code",
   "execution_count": null,
   "id": "d446277d",
   "metadata": {
    "papermill": {
     "duration": 0.505582,
     "end_time": "2024-11-11T18:15:33.983614",
     "exception": false,
     "start_time": "2024-11-11T18:15:33.478032",
     "status": "completed"
    },
    "tags": []
   },
   "outputs": [],
   "source": []
  },
  {
   "cell_type": "code",
   "execution_count": 7,
   "id": "39d0d976",
   "metadata": {
    "execution": {
     "iopub.execute_input": "2024-11-11T18:15:35.045573Z",
     "iopub.status.busy": "2024-11-11T18:15:35.044776Z",
     "iopub.status.idle": "2024-11-11T18:15:35.299514Z",
     "shell.execute_reply": "2024-11-11T18:15:35.298526Z"
    },
    "papermill": {
     "duration": 0.765485,
     "end_time": "2024-11-11T18:15:35.301683",
     "exception": false,
     "start_time": "2024-11-11T18:15:34.536198",
     "status": "completed"
    },
    "tags": []
   },
   "outputs": [
    {
     "data": {
      "image/png": "[encoded data removed]",
      "text/plain": [
       "<Figure size 1000x600 with 1 Axes>"
      ]
     },
     "metadata": {},
     "output_type": "display_data"
    }
   ],
   "source": [
    "# Plot training and validation loss\n",
    "\n",
    "\n",
    "\n",
    "plt.figure(figsize=(10, 6))\n",
    "\n",
    "\n",
    "\n",
    "plt.plot(range(1, len(train_losses) + 1), train_losses, label='Training Loss')\n",
    "\n",
    "\n",
    "\n",
    "plt.plot(range(1, len(val_losses) + 1), val_losses, label='Validation Loss')\n",
    "\n",
    "\n",
    "\n",
    "plt.xlabel('Epochs')\n",
    "\n",
    "\n",
    "\n",
    "plt.ylabel('Loss')\n",
    "\n",
    "\n",
    "\n",
    "plt.title('Training and Validation Loss over Epochs')\n",
    "\n",
    "\n",
    "\n",
    "plt.legend()\n",
    "\n",
    "\n",
    "\n",
    "plt.show()\n"
   ]
  },
  {
   "cell_type": "code",
   "execution_count": 8,
   "id": "67bbd51f",
   "metadata": {
    "execution": {
     "iopub.execute_input": "2024-11-11T18:15:36.322921Z",
     "iopub.status.busy": "2024-11-11T18:15:36.322166Z",
     "iopub.status.idle": "2024-11-11T18:15:36.332158Z",
     "shell.execute_reply": "2024-11-11T18:15:36.331324Z"
    },
    "papermill": {
     "duration": 0.522341,
     "end_time": "2024-11-11T18:15:36.334246",
     "exception": false,
     "start_time": "2024-11-11T18:15:35.811905",
     "status": "completed"
    },
    "tags": []
   },
   "outputs": [
    {
     "name": "stdout",
     "output_type": "stream",
     "text": [
      "True labels distribution: Counter({3: 1000, 8: 1000, 0: 1000, 6: 1000, 1: 1000, 9: 1000, 5: 1000, 7: 1000, 4: 1000, 2: 1000})\n",
      "Predicted labels distribution: Counter({8: 1231, 6: 1187, 1: 1147, 7: 1140, 5: 1128, 9: 1030, 0: 878, 3: 843, 2: 827, 4: 589})\n"
     ]
    }
   ],
   "source": [
    "# Check distribution of true labels and predicted labels\n",
    "\n",
    "\n",
    "\n",
    "from collections import Counter\n",
    "\n",
    "\n",
    "\n",
    "\n",
    "\n",
    "\n",
    "\n",
    "print(\"True labels distribution:\", Counter(true_labels))\n",
    "\n",
    "\n",
    "\n",
    "print(\"Predicted labels distribution:\", Counter(preds))\n"
   ]
  },
  {
   "cell_type": "code",
   "execution_count": 9,
   "id": "3e050edd",
   "metadata": {
    "execution": {
     "iopub.execute_input": "2024-11-11T18:15:37.397581Z",
     "iopub.status.busy": "2024-11-11T18:15:37.396823Z",
     "iopub.status.idle": "2024-11-11T18:15:39.541754Z",
     "shell.execute_reply": "2024-11-11T18:15:39.540726Z"
    },
    "papermill": {
     "duration": 2.705327,
     "end_time": "2024-11-11T18:15:39.544906",
     "exception": false,
     "start_time": "2024-11-11T18:15:36.839579",
     "status": "completed"
    },
    "tags": []
   },
   "outputs": [
    {
     "data": {
      "image/png": "[encoded data removed]",
      "text/plain": [
       "<Figure size 1000x800 with 2 Axes>"
      ]
     },
     "metadata": {},
     "output_type": "display_data"
    }
   ],
   "source": [
    "import torch\n",
    "\n",
    "from sklearn.metrics import confusion_matrix\n",
    "\n",
    "import seaborn as sns\n",
    "\n",
    "import matplotlib.pyplot as plt\n",
    "\n",
    "\n",
    "\n",
    "# Function to get predictions and true labels from the model\n",
    "\n",
    "def get_predictions(model, loader):\n",
    "\n",
    "    model.eval()  # Set model to evaluation mode\n",
    "\n",
    "    all_preds = []\n",
    "\n",
    "    all_labels = []\n",
    "\n",
    "\n",
    "\n",
    "    # No gradient computation during evaluation\n",
    "\n",
    "    with torch.no_grad():\n",
    "\n",
    "        for images, labels in loader:\n",
    "\n",
    "            images, labels = images.to(device), labels.to(device)\n",
    "\n",
    "            outputs = model(images)\n",
    "\n",
    "            _, preds = torch.max(outputs, 1)  # Get predicted class\n",
    "\n",
    "            all_preds.extend(preds.cpu().numpy())\n",
    "\n",
    "            all_labels.extend(labels.cpu().numpy())\n",
    "\n",
    "\n",
    "\n",
    "    return all_labels, all_preds\n",
    "\n",
    "\n",
    "\n",
    "# Function to plot the confusion matrix\n",
    "\n",
    "def plot_confusion_matrix(true_labels, preds, class_names, normalize=False):\n",
    "\n",
    "    # Generate the confusion matrix\n",
    "\n",
    "    cm = confusion_matrix(true_labels, preds, labels=range(len(class_names)))\n",
    "\n",
    "    \n",
    "\n",
    "    if normalize:\n",
    "\n",
    "        cm = cm.astype('float') / cm.sum(axis=1, keepdims=True)  # Normalize by true label counts\n",
    "\n",
    "\n",
    "\n",
    "    # Plot the confusion matrix\n",
    "\n",
    "    plt.figure(figsize=(10, 8))\n",
    "\n",
    "    sns.heatmap(cm, annot=True, fmt=\".2f\" if normalize else \"d\", cmap=\"Blues\", \n",
    "\n",
    "                xticklabels=class_names, yticklabels=class_names)\n",
    "\n",
    "    plt.xlabel(\"Predicted Label\")\n",
    "\n",
    "    plt.ylabel(\"True Label\")\n",
    "\n",
    "    plt.title(\"Normalized Confusion Matrix\" if normalize else \"Confusion Matrix\")\n",
    "\n",
    "    plt.show()\n",
    "\n",
    "\n",
    "\n",
    "# Assuming `class_names` contains the names of the CIFAR-10 classes\n",
    "\n",
    "class_names = ['airplane', 'automobile', 'bird', 'cat', 'deer', 'dog', 'frog', 'horse', 'ship', 'truck']\n",
    "\n",
    "\n",
    "\n",
    "# Example usage\n",
    "\n",
    "true_labels, preds = get_predictions(model, test_loader)\n",
    "\n",
    "plot_confusion_matrix(true_labels, preds, class_names, normalize=True)\n"
   ]
  },
  {
   "cell_type": "code",
   "execution_count": null,
   "id": "67bf2533",
   "metadata": {
    "papermill": {
     "duration": 0.509012,
     "end_time": "2024-11-11T18:15:40.584234",
     "exception": false,
     "start_time": "2024-11-11T18:15:40.075222",
     "status": "completed"
    },
    "tags": []
   },
   "outputs": [],
   "source": []
  }
 ],
 "metadata": {
  "kaggle": {
   "accelerator": "gpu",
   "dataSources": [
    {
     "datasetId": 6058230,
     "sourceId": 9869374,
     "sourceType": "datasetVersion"
    }
   ],
   "isGpuEnabled": true,
   "isInternetEnabled": true,
   "language": "python",
   "sourceType": "notebook"
  },
  "kernelspec": {
   "display_name": "Python 3 (ipykernel)",
   "language": "python",
   "name": "python3"
  },
  "language_info": {
   "codemirror_mode": {
    "name": "ipython",
    "version": 3
   },
   "file_extension": ".py",
   "mimetype": "text/x-python",
   "name": "python",
   "nbconvert_exporter": "python",
   "pygments_lexer": "ipython3",
   "version": "3.11.7"
  },
  "papermill": {
   "default_parameters": {},
   "duration": 2473.114644,
   "end_time": "2024-11-11T18:15:43.362633",
   "environment_variables": {},
   "exception": null,
   "input_path": "__notebook__.ipynb",
   "output_path": "__notebook__.ipynb",
   "parameters": {},
   "start_time": "2024-11-11T17:34:30.247989",
   "version": "2.6.0"
  }
 },
 "nbformat": 4,
 "nbformat_minor": 5
}
